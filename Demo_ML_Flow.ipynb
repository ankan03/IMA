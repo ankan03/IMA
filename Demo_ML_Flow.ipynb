{
 "cells": [
  {
   "cell_type": "markdown",
   "metadata": {
    "id": "J77L0aqNEwtc"
   },
   "source": [
    "#Data Loading "
   ]
  },
  {
   "cell_type": "code",
   "execution_count": null,
   "metadata": {
    "id": "EXS-9cBFMM61"
   },
   "outputs": [],
   "source": [
    "import numpy as np\n",
    "import pandas as pd\n",
    "import random\n",
    "from sklearn.datasets import load_boston\n",
    "import seaborn as sns\n",
    "import matplotlib.pyplot as plt\n",
    "from sklearn.preprocessing import StandardScaler"
   ]
  },
  {
   "cell_type": "code",
   "execution_count": null,
   "metadata": {
    "id": "zQReYZs6L06s"
   },
   "outputs": [],
   "source": [
    "\"\"\"\n",
    "inv_num=[]\n",
    "inv_day=[]\n",
    "inv_amt=[]\n",
    "reg=[]\n",
    "cust=[]\n",
    "clear=[]\n",
    "due=[]\n",
    "for i in range(200):\n",
    "  inv_num.append('1001'+str(random.randint(100,900)))\n",
    "  inv_day.append(str(random.randint(1,30))+'-'+'05'+'-2020')\n",
    "  due.append(str(random.randint(1,30))+str(random.randint(5,7))+'2020.0')\n",
    "  clear.append(str(random.randint(1,30))+str(random.randint(5,7))+'2020.0')\n",
    "  inv_amt.append(str(random.randint(1,1000))+'.'+str(random.randint(1,99)))\n",
    "  reg.append(np.random.choice(['NA','SA','NZ','LATAM']))\n",
    "  cust.append(np.random.choice(['Hooli','EndFrame','Pieper_chat','GROW_MORE','Riot','Laxmi_Funds_25days']))\n",
    "\"\"\""
   ]
  },
  {
   "cell_type": "code",
   "execution_count": null,
   "metadata": {
    "id": "tYMe6UcpMHJR"
   },
   "outputs": [],
   "source": [
    "df_1=pd.DataFrame({'INVOICE_NUMBER':inv_num,'Creation_date':inv_day,'Amount($)':inv_amt,'Region':reg,'Due_date':due,'CLEARING_DATE':clear,'CUSTOMER_NAME':cust,'Business_Area':reg})"
   ]
  },
  {
   "cell_type": "code",
   "execution_count": null,
   "metadata": {
    "colab": {
     "base_uri": "https://localhost:8080/",
     "height": 202
    },
    "id": "3cvn-JCHMPKZ",
    "outputId": "a1fd6a32-52e4-44c0-dc92-d71ddf040974"
   },
   "outputs": [
    {
     "data": {
      "text/html": [
       "<div>\n",
       "<style scoped>\n",
       "    .dataframe tbody tr th:only-of-type {\n",
       "        vertical-align: middle;\n",
       "    }\n",
       "\n",
       "    .dataframe tbody tr th {\n",
       "        vertical-align: top;\n",
       "    }\n",
       "\n",
       "    .dataframe thead th {\n",
       "        text-align: right;\n",
       "    }\n",
       "</style>\n",
       "<table border=\"1\" class=\"dataframe\">\n",
       "  <thead>\n",
       "    <tr style=\"text-align: right;\">\n",
       "      <th></th>\n",
       "      <th>INVOICE_NUMBER</th>\n",
       "      <th>Creation_date</th>\n",
       "      <th>Amount($)</th>\n",
       "      <th>Region</th>\n",
       "      <th>Due_date</th>\n",
       "      <th>CLEARING_DATE</th>\n",
       "      <th>CUSTOMER_NAME</th>\n",
       "      <th>Business_Area</th>\n",
       "    </tr>\n",
       "  </thead>\n",
       "  <tbody>\n",
       "    <tr>\n",
       "      <th>0</th>\n",
       "      <td>1001878</td>\n",
       "      <td>26-05-2020</td>\n",
       "      <td>595.51</td>\n",
       "      <td>SA</td>\n",
       "      <td>1252020.0</td>\n",
       "      <td>2852020.0</td>\n",
       "      <td>EndFrame</td>\n",
       "      <td>SA</td>\n",
       "    </tr>\n",
       "    <tr>\n",
       "      <th>1</th>\n",
       "      <td>1001400</td>\n",
       "      <td>19-05-2020</td>\n",
       "      <td>203.45</td>\n",
       "      <td>NA</td>\n",
       "      <td>2852020.0</td>\n",
       "      <td>2752020.0</td>\n",
       "      <td>Riot</td>\n",
       "      <td>NA</td>\n",
       "    </tr>\n",
       "    <tr>\n",
       "      <th>2</th>\n",
       "      <td>1001627</td>\n",
       "      <td>18-05-2020</td>\n",
       "      <td>137.3</td>\n",
       "      <td>NA</td>\n",
       "      <td>3072020.0</td>\n",
       "      <td>752020.0</td>\n",
       "      <td>Hooli</td>\n",
       "      <td>NA</td>\n",
       "    </tr>\n",
       "    <tr>\n",
       "      <th>3</th>\n",
       "      <td>1001189</td>\n",
       "      <td>24-05-2020</td>\n",
       "      <td>262.57</td>\n",
       "      <td>SA</td>\n",
       "      <td>1862020.0</td>\n",
       "      <td>662020.0</td>\n",
       "      <td>Pieper_chat</td>\n",
       "      <td>SA</td>\n",
       "    </tr>\n",
       "    <tr>\n",
       "      <th>4</th>\n",
       "      <td>1001816</td>\n",
       "      <td>29-05-2020</td>\n",
       "      <td>238.5</td>\n",
       "      <td>SA</td>\n",
       "      <td>2252020.0</td>\n",
       "      <td>772020.0</td>\n",
       "      <td>Riot</td>\n",
       "      <td>SA</td>\n",
       "    </tr>\n",
       "  </tbody>\n",
       "</table>\n",
       "</div>"
      ],
      "text/plain": [
       "  INVOICE_NUMBER Creation_date  ... CUSTOMER_NAME Business_Area\n",
       "0        1001878    26-05-2020  ...      EndFrame            SA\n",
       "1        1001400    19-05-2020  ...          Riot            NA\n",
       "2        1001627    18-05-2020  ...         Hooli            NA\n",
       "3        1001189    24-05-2020  ...   Pieper_chat            SA\n",
       "4        1001816    29-05-2020  ...          Riot            SA\n",
       "\n",
       "[5 rows x 8 columns]"
      ]
     },
     "execution_count": 231,
     "metadata": {
      "tags": []
     },
     "output_type": "execute_result"
    }
   ],
   "source": [
    "df_1.head()"
   ]
  },
  {
   "cell_type": "code",
   "execution_count": null,
   "metadata": {
    "colab": {
     "base_uri": "https://localhost:8080/"
    },
    "id": "pc2GT-yvMaJb",
    "outputId": "a0705c3a-7d00-4c27-d93f-7f7ec3c0717f"
   },
   "outputs": [
    {
     "name": "stdout",
     "output_type": "stream",
     "text": [
      "<class 'pandas.core.frame.DataFrame'>\n",
      "RangeIndex: 200 entries, 0 to 199\n",
      "Data columns (total 8 columns):\n",
      " #   Column          Non-Null Count  Dtype \n",
      "---  ------          --------------  ----- \n",
      " 0   INVOICE_NUMBER  200 non-null    object\n",
      " 1   Creation_date   200 non-null    object\n",
      " 2   Amount($)       200 non-null    object\n",
      " 3   Region          200 non-null    object\n",
      " 4   Due_date        200 non-null    object\n",
      " 5   CLEARING_DATE   200 non-null    object\n",
      " 6   CUSTOMER_NAME   200 non-null    object\n",
      " 7   Business_Area   200 non-null    object\n",
      "dtypes: object(8)\n",
      "memory usage: 12.6+ KB\n"
     ]
    }
   ],
   "source": [
    "df_1.info()"
   ]
  },
  {
   "cell_type": "code",
   "execution_count": null,
   "metadata": {
    "colab": {
     "base_uri": "https://localhost:8080/",
     "height": 415
    },
    "id": "DgbX-mgMM-vd",
    "outputId": "4f51aa24-88a0-41f4-dcf0-33f56a68e9af"
   },
   "outputs": [
    {
     "data": {
      "text/html": [
       "<div>\n",
       "<style scoped>\n",
       "    .dataframe tbody tr th:only-of-type {\n",
       "        vertical-align: middle;\n",
       "    }\n",
       "\n",
       "    .dataframe tbody tr th {\n",
       "        vertical-align: top;\n",
       "    }\n",
       "\n",
       "    .dataframe thead th {\n",
       "        text-align: right;\n",
       "    }\n",
       "</style>\n",
       "<table border=\"1\" class=\"dataframe\">\n",
       "  <thead>\n",
       "    <tr style=\"text-align: right;\">\n",
       "      <th></th>\n",
       "      <th>INVOICE_NUMBER</th>\n",
       "      <th>Creation_date</th>\n",
       "      <th>Amount($)</th>\n",
       "      <th>Region</th>\n",
       "      <th>Due_date</th>\n",
       "      <th>CLEARING_DATE</th>\n",
       "      <th>CUSTOMER_NAME</th>\n",
       "      <th>Business_Area</th>\n",
       "    </tr>\n",
       "  </thead>\n",
       "  <tbody>\n",
       "    <tr>\n",
       "      <th>0</th>\n",
       "      <td>False</td>\n",
       "      <td>False</td>\n",
       "      <td>False</td>\n",
       "      <td>False</td>\n",
       "      <td>False</td>\n",
       "      <td>False</td>\n",
       "      <td>False</td>\n",
       "      <td>False</td>\n",
       "    </tr>\n",
       "    <tr>\n",
       "      <th>1</th>\n",
       "      <td>False</td>\n",
       "      <td>False</td>\n",
       "      <td>False</td>\n",
       "      <td>False</td>\n",
       "      <td>False</td>\n",
       "      <td>False</td>\n",
       "      <td>False</td>\n",
       "      <td>False</td>\n",
       "    </tr>\n",
       "    <tr>\n",
       "      <th>2</th>\n",
       "      <td>False</td>\n",
       "      <td>False</td>\n",
       "      <td>False</td>\n",
       "      <td>False</td>\n",
       "      <td>False</td>\n",
       "      <td>False</td>\n",
       "      <td>False</td>\n",
       "      <td>False</td>\n",
       "    </tr>\n",
       "    <tr>\n",
       "      <th>3</th>\n",
       "      <td>False</td>\n",
       "      <td>False</td>\n",
       "      <td>False</td>\n",
       "      <td>False</td>\n",
       "      <td>False</td>\n",
       "      <td>False</td>\n",
       "      <td>False</td>\n",
       "      <td>False</td>\n",
       "    </tr>\n",
       "    <tr>\n",
       "      <th>4</th>\n",
       "      <td>False</td>\n",
       "      <td>False</td>\n",
       "      <td>False</td>\n",
       "      <td>False</td>\n",
       "      <td>False</td>\n",
       "      <td>False</td>\n",
       "      <td>False</td>\n",
       "      <td>False</td>\n",
       "    </tr>\n",
       "    <tr>\n",
       "      <th>...</th>\n",
       "      <td>...</td>\n",
       "      <td>...</td>\n",
       "      <td>...</td>\n",
       "      <td>...</td>\n",
       "      <td>...</td>\n",
       "      <td>...</td>\n",
       "      <td>...</td>\n",
       "      <td>...</td>\n",
       "    </tr>\n",
       "    <tr>\n",
       "      <th>195</th>\n",
       "      <td>False</td>\n",
       "      <td>False</td>\n",
       "      <td>False</td>\n",
       "      <td>False</td>\n",
       "      <td>False</td>\n",
       "      <td>False</td>\n",
       "      <td>False</td>\n",
       "      <td>False</td>\n",
       "    </tr>\n",
       "    <tr>\n",
       "      <th>196</th>\n",
       "      <td>False</td>\n",
       "      <td>False</td>\n",
       "      <td>False</td>\n",
       "      <td>False</td>\n",
       "      <td>False</td>\n",
       "      <td>False</td>\n",
       "      <td>False</td>\n",
       "      <td>False</td>\n",
       "    </tr>\n",
       "    <tr>\n",
       "      <th>197</th>\n",
       "      <td>False</td>\n",
       "      <td>False</td>\n",
       "      <td>False</td>\n",
       "      <td>False</td>\n",
       "      <td>False</td>\n",
       "      <td>False</td>\n",
       "      <td>False</td>\n",
       "      <td>False</td>\n",
       "    </tr>\n",
       "    <tr>\n",
       "      <th>198</th>\n",
       "      <td>False</td>\n",
       "      <td>False</td>\n",
       "      <td>False</td>\n",
       "      <td>False</td>\n",
       "      <td>False</td>\n",
       "      <td>False</td>\n",
       "      <td>False</td>\n",
       "      <td>False</td>\n",
       "    </tr>\n",
       "    <tr>\n",
       "      <th>199</th>\n",
       "      <td>False</td>\n",
       "      <td>False</td>\n",
       "      <td>False</td>\n",
       "      <td>False</td>\n",
       "      <td>False</td>\n",
       "      <td>False</td>\n",
       "      <td>False</td>\n",
       "      <td>False</td>\n",
       "    </tr>\n",
       "  </tbody>\n",
       "</table>\n",
       "<p>200 rows × 8 columns</p>\n",
       "</div>"
      ],
      "text/plain": [
       "     INVOICE_NUMBER  Creation_date  ...  CUSTOMER_NAME  Business_Area\n",
       "0             False          False  ...          False          False\n",
       "1             False          False  ...          False          False\n",
       "2             False          False  ...          False          False\n",
       "3             False          False  ...          False          False\n",
       "4             False          False  ...          False          False\n",
       "..              ...            ...  ...            ...            ...\n",
       "195           False          False  ...          False          False\n",
       "196           False          False  ...          False          False\n",
       "197           False          False  ...          False          False\n",
       "198           False          False  ...          False          False\n",
       "199           False          False  ...          False          False\n",
       "\n",
       "[200 rows x 8 columns]"
      ]
     },
     "execution_count": 233,
     "metadata": {
      "tags": []
     },
     "output_type": "execute_result"
    }
   ],
   "source": [
    "df_1.isnull()"
   ]
  },
  {
   "cell_type": "code",
   "execution_count": null,
   "metadata": {
    "colab": {
     "base_uri": "https://localhost:8080/"
    },
    "id": "IEkT4BIUNJki",
    "outputId": "0afcc95c-aab2-458e-eaa2-6cc94b7d643a"
   },
   "outputs": [
    {
     "data": {
      "text/plain": [
       "INVOICE_NUMBER    False\n",
       "Creation_date     False\n",
       "Amount($)         False\n",
       "Region            False\n",
       "Due_date          False\n",
       "CLEARING_DATE     False\n",
       "CUSTOMER_NAME     False\n",
       "Business_Area     False\n",
       "dtype: bool"
      ]
     },
     "execution_count": 234,
     "metadata": {
      "tags": []
     },
     "output_type": "execute_result"
    }
   ],
   "source": [
    "df_1.isnull().any()"
   ]
  },
  {
   "cell_type": "code",
   "execution_count": null,
   "metadata": {
    "id": "wNn5IqrDNh3v"
   },
   "outputs": [],
   "source": []
  },
  {
   "cell_type": "markdown",
   "metadata": {
    "id": "nfsDPLNzE-wz"
   },
   "source": [
    "#Sanity / Pre Processing"
   ]
  },
  {
   "cell_type": "markdown",
   "metadata": {
    "id": "eKvwR3YINiGE"
   },
   "source": [
    "validating the Dtype"
   ]
  },
  {
   "cell_type": "code",
   "execution_count": null,
   "metadata": {
    "colab": {
     "base_uri": "https://localhost:8080/"
    },
    "id": "4J7w7E50Nv0c",
    "outputId": "30a454fc-b0b8-4ae8-e6d0-d67e1dd8a9a1"
   },
   "outputs": [
    {
     "data": {
      "text/plain": [
       "0    26-05-2020\n",
       "1    19-05-2020\n",
       "2    18-05-2020\n",
       "3    24-05-2020\n",
       "4    29-05-2020\n",
       "Name: Creation_date, dtype: object"
      ]
     },
     "execution_count": 235,
     "metadata": {
      "tags": []
     },
     "output_type": "execute_result"
    }
   ],
   "source": [
    "df_1['Creation_date'].head()"
   ]
  },
  {
   "cell_type": "code",
   "execution_count": null,
   "metadata": {
    "colab": {
     "base_uri": "https://localhost:8080/",
     "height": 537
    },
    "id": "ylzfE0oANZCp",
    "outputId": "19e00e20-8070-4fbb-9c48-529847211337"
   },
   "outputs": [
    {
     "ename": "ValueError",
     "evalue": "ignored",
     "output_type": "error",
     "traceback": [
      "\u001b[0;31m---------------------------------------------------------------------------\u001b[0m",
      "\u001b[0;31mTypeError\u001b[0m                                 Traceback (most recent call last)",
      "\u001b[0;32m/usr/local/lib/python3.6/dist-packages/pandas/core/tools/datetimes.py\u001b[0m in \u001b[0;36m_convert_listlike_datetimes\u001b[0;34m(arg, format, name, tz, unit, errors, infer_datetime_format, dayfirst, yearfirst, exact)\u001b[0m\n\u001b[1;32m    449\u001b[0m             \u001b[0;32mtry\u001b[0m\u001b[0;34m:\u001b[0m\u001b[0;34m\u001b[0m\u001b[0;34m\u001b[0m\u001b[0m\n\u001b[0;32m--> 450\u001b[0;31m                 \u001b[0mvalues\u001b[0m\u001b[0;34m,\u001b[0m \u001b[0mtz\u001b[0m \u001b[0;34m=\u001b[0m \u001b[0mconversion\u001b[0m\u001b[0;34m.\u001b[0m\u001b[0mdatetime_to_datetime64\u001b[0m\u001b[0;34m(\u001b[0m\u001b[0marg\u001b[0m\u001b[0;34m)\u001b[0m\u001b[0;34m\u001b[0m\u001b[0;34m\u001b[0m\u001b[0m\n\u001b[0m\u001b[1;32m    451\u001b[0m                 \u001b[0mdta\u001b[0m \u001b[0;34m=\u001b[0m \u001b[0mDatetimeArray\u001b[0m\u001b[0;34m(\u001b[0m\u001b[0mvalues\u001b[0m\u001b[0;34m,\u001b[0m \u001b[0mdtype\u001b[0m\u001b[0;34m=\u001b[0m\u001b[0mtz_to_dtype\u001b[0m\u001b[0;34m(\u001b[0m\u001b[0mtz\u001b[0m\u001b[0;34m)\u001b[0m\u001b[0;34m)\u001b[0m\u001b[0;34m\u001b[0m\u001b[0;34m\u001b[0m\u001b[0m\n",
      "\u001b[0;32mpandas/_libs/tslibs/conversion.pyx\u001b[0m in \u001b[0;36mpandas._libs.tslibs.conversion.datetime_to_datetime64\u001b[0;34m()\u001b[0m\n",
      "\u001b[0;31mTypeError\u001b[0m: Unrecognized value type: <class 'str'>",
      "\nDuring handling of the above exception, another exception occurred:\n",
      "\u001b[0;31mValueError\u001b[0m                                Traceback (most recent call last)",
      "\u001b[0;32m<ipython-input-236-f5945acd7630>\u001b[0m in \u001b[0;36m<module>\u001b[0;34m()\u001b[0m\n\u001b[0;32m----> 1\u001b[0;31m \u001b[0mdf_1\u001b[0m\u001b[0;34m[\u001b[0m\u001b[0;34m'Creation_date'\u001b[0m\u001b[0;34m]\u001b[0m\u001b[0;34m=\u001b[0m\u001b[0mpd\u001b[0m\u001b[0;34m.\u001b[0m\u001b[0mto_datetime\u001b[0m\u001b[0;34m(\u001b[0m\u001b[0mdf_1\u001b[0m\u001b[0;34m[\u001b[0m\u001b[0;34m'Creation_date'\u001b[0m\u001b[0;34m]\u001b[0m\u001b[0;34m,\u001b[0m\u001b[0mformat\u001b[0m\u001b[0;34m=\u001b[0m\u001b[0;34m'%Y%m%d'\u001b[0m\u001b[0;34m)\u001b[0m\u001b[0;34m\u001b[0m\u001b[0;34m\u001b[0m\u001b[0m\n\u001b[0m",
      "\u001b[0;32m/usr/local/lib/python3.6/dist-packages/pandas/core/tools/datetimes.py\u001b[0m in \u001b[0;36mto_datetime\u001b[0;34m(arg, errors, dayfirst, yearfirst, utc, format, exact, unit, infer_datetime_format, origin, cache)\u001b[0m\n\u001b[1;32m    801\u001b[0m             \u001b[0mresult\u001b[0m \u001b[0;34m=\u001b[0m \u001b[0marg\u001b[0m\u001b[0;34m.\u001b[0m\u001b[0mmap\u001b[0m\u001b[0;34m(\u001b[0m\u001b[0mcache_array\u001b[0m\u001b[0;34m)\u001b[0m\u001b[0;34m\u001b[0m\u001b[0;34m\u001b[0m\u001b[0m\n\u001b[1;32m    802\u001b[0m         \u001b[0;32melse\u001b[0m\u001b[0;34m:\u001b[0m\u001b[0;34m\u001b[0m\u001b[0;34m\u001b[0m\u001b[0m\n\u001b[0;32m--> 803\u001b[0;31m             \u001b[0mvalues\u001b[0m \u001b[0;34m=\u001b[0m \u001b[0mconvert_listlike\u001b[0m\u001b[0;34m(\u001b[0m\u001b[0marg\u001b[0m\u001b[0;34m.\u001b[0m\u001b[0m_values\u001b[0m\u001b[0;34m,\u001b[0m \u001b[0mformat\u001b[0m\u001b[0;34m)\u001b[0m\u001b[0;34m\u001b[0m\u001b[0;34m\u001b[0m\u001b[0m\n\u001b[0m\u001b[1;32m    804\u001b[0m             \u001b[0mresult\u001b[0m \u001b[0;34m=\u001b[0m \u001b[0marg\u001b[0m\u001b[0;34m.\u001b[0m\u001b[0m_constructor\u001b[0m\u001b[0;34m(\u001b[0m\u001b[0mvalues\u001b[0m\u001b[0;34m,\u001b[0m \u001b[0mindex\u001b[0m\u001b[0;34m=\u001b[0m\u001b[0marg\u001b[0m\u001b[0;34m.\u001b[0m\u001b[0mindex\u001b[0m\u001b[0;34m,\u001b[0m \u001b[0mname\u001b[0m\u001b[0;34m=\u001b[0m\u001b[0marg\u001b[0m\u001b[0;34m.\u001b[0m\u001b[0mname\u001b[0m\u001b[0;34m)\u001b[0m\u001b[0;34m\u001b[0m\u001b[0;34m\u001b[0m\u001b[0m\n\u001b[1;32m    805\u001b[0m     \u001b[0;32melif\u001b[0m \u001b[0misinstance\u001b[0m\u001b[0;34m(\u001b[0m\u001b[0marg\u001b[0m\u001b[0;34m,\u001b[0m \u001b[0;34m(\u001b[0m\u001b[0mABCDataFrame\u001b[0m\u001b[0;34m,\u001b[0m \u001b[0mabc\u001b[0m\u001b[0;34m.\u001b[0m\u001b[0mMutableMapping\u001b[0m\u001b[0;34m)\u001b[0m\u001b[0;34m)\u001b[0m\u001b[0;34m:\u001b[0m\u001b[0;34m\u001b[0m\u001b[0;34m\u001b[0m\u001b[0m\n",
      "\u001b[0;32m/usr/local/lib/python3.6/dist-packages/pandas/core/tools/datetimes.py\u001b[0m in \u001b[0;36m_convert_listlike_datetimes\u001b[0;34m(arg, format, name, tz, unit, errors, infer_datetime_format, dayfirst, yearfirst, exact)\u001b[0m\n\u001b[1;32m    452\u001b[0m                 \u001b[0;32mreturn\u001b[0m \u001b[0mDatetimeIndex\u001b[0m\u001b[0;34m.\u001b[0m\u001b[0m_simple_new\u001b[0m\u001b[0;34m(\u001b[0m\u001b[0mdta\u001b[0m\u001b[0;34m,\u001b[0m \u001b[0mname\u001b[0m\u001b[0;34m=\u001b[0m\u001b[0mname\u001b[0m\u001b[0;34m)\u001b[0m\u001b[0;34m\u001b[0m\u001b[0;34m\u001b[0m\u001b[0m\n\u001b[1;32m    453\u001b[0m             \u001b[0;32mexcept\u001b[0m \u001b[0;34m(\u001b[0m\u001b[0mValueError\u001b[0m\u001b[0;34m,\u001b[0m \u001b[0mTypeError\u001b[0m\u001b[0;34m)\u001b[0m\u001b[0;34m:\u001b[0m\u001b[0;34m\u001b[0m\u001b[0;34m\u001b[0m\u001b[0m\n\u001b[0;32m--> 454\u001b[0;31m                 \u001b[0;32mraise\u001b[0m \u001b[0me\u001b[0m\u001b[0;34m\u001b[0m\u001b[0;34m\u001b[0m\u001b[0m\n\u001b[0m\u001b[1;32m    455\u001b[0m \u001b[0;34m\u001b[0m\u001b[0m\n\u001b[1;32m    456\u001b[0m     \u001b[0;32mif\u001b[0m \u001b[0mresult\u001b[0m \u001b[0;32mis\u001b[0m \u001b[0;32mNone\u001b[0m\u001b[0;34m:\u001b[0m\u001b[0;34m\u001b[0m\u001b[0;34m\u001b[0m\u001b[0m\n",
      "\u001b[0;32m/usr/local/lib/python3.6/dist-packages/pandas/core/tools/datetimes.py\u001b[0m in \u001b[0;36m_convert_listlike_datetimes\u001b[0;34m(arg, format, name, tz, unit, errors, infer_datetime_format, dayfirst, yearfirst, exact)\u001b[0m\n\u001b[1;32m    416\u001b[0m                 \u001b[0;32mtry\u001b[0m\u001b[0;34m:\u001b[0m\u001b[0;34m\u001b[0m\u001b[0;34m\u001b[0m\u001b[0m\n\u001b[1;32m    417\u001b[0m                     result, timezones = array_strptime(\n\u001b[0;32m--> 418\u001b[0;31m                         \u001b[0marg\u001b[0m\u001b[0;34m,\u001b[0m \u001b[0mformat\u001b[0m\u001b[0;34m,\u001b[0m \u001b[0mexact\u001b[0m\u001b[0;34m=\u001b[0m\u001b[0mexact\u001b[0m\u001b[0;34m,\u001b[0m \u001b[0merrors\u001b[0m\u001b[0;34m=\u001b[0m\u001b[0merrors\u001b[0m\u001b[0;34m\u001b[0m\u001b[0;34m\u001b[0m\u001b[0m\n\u001b[0m\u001b[1;32m    419\u001b[0m                     )\n\u001b[1;32m    420\u001b[0m                     \u001b[0;32mif\u001b[0m \u001b[0;34m\"%Z\"\u001b[0m \u001b[0;32min\u001b[0m \u001b[0mformat\u001b[0m \u001b[0;32mor\u001b[0m \u001b[0;34m\"%z\"\u001b[0m \u001b[0;32min\u001b[0m \u001b[0mformat\u001b[0m\u001b[0;34m:\u001b[0m\u001b[0;34m\u001b[0m\u001b[0;34m\u001b[0m\u001b[0m\n",
      "\u001b[0;32mpandas/_libs/tslibs/strptime.pyx\u001b[0m in \u001b[0;36mpandas._libs.tslibs.strptime.array_strptime\u001b[0;34m()\u001b[0m\n",
      "\u001b[0;31mValueError\u001b[0m: time data '26-05-2020' does not match format '%Y%m%d' (match)"
     ]
    }
   ],
   "source": [
    "df_1['Creation_date']=pd.to_datetime(df_1['Creation_date'],format='%Y%m%d')"
   ]
  },
  {
   "cell_type": "code",
   "execution_count": null,
   "metadata": {
    "id": "3yNM5qyyNdMz"
   },
   "outputs": [],
   "source": [
    "df_1['Creation_date']=pd.to_datetime(df_1['Creation_date'],format='%d-%m-%Y')"
   ]
  },
  {
   "cell_type": "code",
   "execution_count": null,
   "metadata": {
    "colab": {
     "base_uri": "https://localhost:8080/"
    },
    "id": "Xv7dgNrAOldl",
    "outputId": "5cd9269b-5f1d-41ee-b0fc-6fff88bc9ba9"
   },
   "outputs": [
    {
     "data": {
      "text/plain": [
       "0   2020-05-26\n",
       "1   2020-05-19\n",
       "2   2020-05-18\n",
       "3   2020-05-24\n",
       "4   2020-05-29\n",
       "Name: Creation_date, dtype: datetime64[ns]"
      ]
     },
     "execution_count": 238,
     "metadata": {
      "tags": []
     },
     "output_type": "execute_result"
    }
   ],
   "source": [
    "df_1['Creation_date'].head()"
   ]
  },
  {
   "cell_type": "code",
   "execution_count": null,
   "metadata": {
    "colab": {
     "base_uri": "https://localhost:8080/"
    },
    "id": "6uE6YBySObQV",
    "outputId": "294f1664-b7ae-40d7-861d-5dba5cbf3c5e"
   },
   "outputs": [
    {
     "data": {
      "text/plain": [
       "0      2852020.0\n",
       "1      2752020.0\n",
       "2       752020.0\n",
       "3       662020.0\n",
       "4       772020.0\n",
       "         ...    \n",
       "195    2952020.0\n",
       "196     152020.0\n",
       "197     572020.0\n",
       "198    1652020.0\n",
       "199     872020.0\n",
       "Name: CLEARING_DATE, Length: 200, dtype: object"
      ]
     },
     "execution_count": 239,
     "metadata": {
      "tags": []
     },
     "output_type": "execute_result"
    }
   ],
   "source": [
    "df_1['CLEARING_DATE']"
   ]
  },
  {
   "cell_type": "code",
   "execution_count": null,
   "metadata": {
    "id": "pnbKEQJyOQq6"
   },
   "outputs": [],
   "source": [
    "df_1['CLEARING_DATE']=pd.to_datetime(df_1['CLEARING_DATE'].astype('float'),format='%d%m%Y')\n",
    "df_1['Due_date']=pd.to_datetime(df_1['Due_date'].astype('float'),format='%d%m%Y')"
   ]
  },
  {
   "cell_type": "code",
   "execution_count": null,
   "metadata": {
    "colab": {
     "base_uri": "https://localhost:8080/"
    },
    "id": "j2ftIvacOgaU",
    "outputId": "461d2b05-0609-4b23-dc97-3273e38cf1b7"
   },
   "outputs": [
    {
     "data": {
      "text/plain": [
       "0   2020-05-28\n",
       "1   2020-05-27\n",
       "2   2020-05-07\n",
       "3   2020-06-06\n",
       "4   2020-07-07\n",
       "Name: CLEARING_DATE, dtype: datetime64[ns]"
      ]
     },
     "execution_count": 241,
     "metadata": {
      "tags": []
     },
     "output_type": "execute_result"
    }
   ],
   "source": [
    "df_1['CLEARING_DATE'].head()"
   ]
  },
  {
   "cell_type": "code",
   "execution_count": null,
   "metadata": {
    "colab": {
     "base_uri": "https://localhost:8080/"
    },
    "id": "csV12lJ2Zags",
    "outputId": "1cdbd411-432f-433f-c214-e2d46fd86cfd"
   },
   "outputs": [
    {
     "data": {
      "text/plain": [
       "0   2020-05-12\n",
       "1   2020-05-28\n",
       "2   2020-07-30\n",
       "3   2020-06-18\n",
       "4   2020-05-22\n",
       "Name: Due_date, dtype: datetime64[ns]"
      ]
     },
     "execution_count": 242,
     "metadata": {
      "tags": []
     },
     "output_type": "execute_result"
    }
   ],
   "source": [
    "df_1['Due_date'].head()"
   ]
  },
  {
   "cell_type": "markdown",
   "metadata": {
    "id": "YR9PK_FKKEs-"
   },
   "source": [
    "#Train Test Split "
   ]
  },
  {
   "cell_type": "code",
   "execution_count": null,
   "metadata": {
    "id": "AhOfkqyr2AOW"
   },
   "outputs": [],
   "source": [
    "#df_1 <- Train"
   ]
  },
  {
   "cell_type": "code",
   "execution_count": null,
   "metadata": {
    "id": "YFAVflTpRQjG"
   },
   "outputs": [],
   "source": [
    "df_1['delay']=(df_1['CLEARING_DATE']-df_1['Due_date']).dt.days"
   ]
  },
  {
   "cell_type": "code",
   "execution_count": null,
   "metadata": {
    "id": "bP2FwWr8KIcg"
   },
   "outputs": [],
   "source": [
    "df_1.sort_values(by='CREATION_DATE',inplace=True) #use document_date_norm.1"
   ]
  },
  {
   "cell_type": "code",
   "execution_count": null,
   "metadata": {
    "colab": {
     "base_uri": "https://localhost:8080/"
    },
    "id": "zEsBTMG5KWMP",
    "outputId": "4eff7b3b-fbec-4a71-8372-f644276f08df"
   },
   "outputs": [
    {
     "data": {
      "text/plain": [
       "(200, 9)"
      ]
     },
     "execution_count": 245,
     "metadata": {
      "tags": []
     },
     "output_type": "execute_result"
    }
   ],
   "source": [
    "df_1.shape"
   ]
  },
  {
   "cell_type": "code",
   "execution_count": null,
   "metadata": {
    "id": "f9BfRGaPKwfT"
   },
   "outputs": [],
   "source": [
    "test1=df_1.tail(40)\n",
    "val=test1.iloc[:20,:]"
   ]
  },
  {
   "cell_type": "code",
   "execution_count": null,
   "metadata": {
    "id": "Rjt16yx_KYpd"
   },
   "outputs": [],
   "source": [
    "test1=test1.tail(20)"
   ]
  },
  {
   "cell_type": "code",
   "execution_count": null,
   "metadata": {
    "colab": {
     "base_uri": "https://localhost:8080/"
    },
    "id": "aMN5dpuMKd5d",
    "outputId": "424aeb5f-d0a3-4a54-cd8a-344e7ef58e62"
   },
   "outputs": [
    {
     "data": {
      "text/plain": [
       "((20, 9), (20, 9))"
      ]
     },
     "execution_count": 248,
     "metadata": {
      "tags": []
     },
     "output_type": "execute_result"
    }
   ],
   "source": [
    "val.shape,test1.shape"
   ]
  },
  {
   "cell_type": "code",
   "execution_count": null,
   "metadata": {
    "colab": {
     "base_uri": "https://localhost:8080/"
    },
    "id": "N_0rXRHhLrvz",
    "outputId": "905f4849-00a8-4e9b-f5bc-af763a6576f3"
   },
   "outputs": [
    {
     "data": {
      "text/plain": [
       "set()"
      ]
     },
     "execution_count": 249,
     "metadata": {
      "tags": []
     },
     "output_type": "execute_result"
    }
   ],
   "source": [
    "set(val.index).intersection(set(test1.index))"
   ]
  },
  {
   "cell_type": "code",
   "execution_count": null,
   "metadata": {
    "id": "QlfxttAjOPvh"
   },
   "outputs": [],
   "source": [
    "r=len(df_1)-40"
   ]
  },
  {
   "cell_type": "code",
   "execution_count": null,
   "metadata": {
    "colab": {
     "base_uri": "https://localhost:8080/"
    },
    "id": "9QRps43gMH6q",
    "outputId": "e9dbd01c-8c3d-4672-c634-0a025be56e76"
   },
   "outputs": [
    {
     "data": {
      "text/plain": [
       "160"
      ]
     },
     "execution_count": 251,
     "metadata": {
      "tags": []
     },
     "output_type": "execute_result"
    }
   ],
   "source": [
    "df_1=df_1.head(r)\n",
    "len(df_1)"
   ]
  },
  {
   "cell_type": "markdown",
   "metadata": {
    "id": "mOEY-xUAFkif"
   },
   "source": [
    "#EDA (Data Analysis)"
   ]
  },
  {
   "cell_type": "code",
   "execution_count": null,
   "metadata": {
    "colab": {
     "base_uri": "https://localhost:8080/"
    },
    "id": "NawdRbN6Opar",
    "outputId": "c1505d4f-4744-4987-b7c3-4736fe9d88cf"
   },
   "outputs": [
    {
     "data": {
      "text/plain": [
       "147"
      ]
     },
     "execution_count": 252,
     "metadata": {
      "tags": []
     },
     "output_type": "execute_result"
    }
   ],
   "source": [
    "df_1['INVOICE_NUMBER'].nunique()"
   ]
  },
  {
   "cell_type": "code",
   "execution_count": null,
   "metadata": {
    "colab": {
     "base_uri": "https://localhost:8080/"
    },
    "id": "JlZmGifzTS7E",
    "outputId": "4164c47a-43b4-4041-a6ce-50119bdc005d"
   },
   "outputs": [
    {
     "data": {
      "text/plain": [
       "160"
      ]
     },
     "execution_count": 253,
     "metadata": {
      "tags": []
     },
     "output_type": "execute_result"
    }
   ],
   "source": [
    "df_1.shape[0]"
   ]
  },
  {
   "cell_type": "code",
   "execution_count": null,
   "metadata": {
    "colab": {
     "base_uri": "https://localhost:8080/"
    },
    "id": "D-0GozWOTVew",
    "outputId": "15678f36-da8a-4ea5-afd2-0be18dfcba0a"
   },
   "outputs": [
    {
     "data": {
      "text/plain": [
       "array(['SA', 'NA', 'LATAM', 'NZ'], dtype=object)"
      ]
     },
     "execution_count": 254,
     "metadata": {
      "tags": []
     },
     "output_type": "execute_result"
    }
   ],
   "source": [
    "df_1['Region'].unique()"
   ]
  },
  {
   "cell_type": "markdown",
   "metadata": {
    "id": "kPq3ibPoTuso"
   },
   "source": [
    "check that sufficient data is there ..."
   ]
  },
  {
   "cell_type": "code",
   "execution_count": null,
   "metadata": {
    "colab": {
     "base_uri": "https://localhost:8080/"
    },
    "id": "4RErcl8sTflq",
    "outputId": "5bc547df-48fd-4292-f13c-d9d84a4c6fa4"
   },
   "outputs": [
    {
     "data": {
      "text/plain": [
       "NA       48\n",
       "SA       44\n",
       "LATAM    36\n",
       "NZ       32\n",
       "Name: Region, dtype: int64"
      ]
     },
     "execution_count": 255,
     "metadata": {
      "tags": []
     },
     "output_type": "execute_result"
    }
   ],
   "source": [
    "df_1['Region'].value_counts()"
   ]
  },
  {
   "cell_type": "code",
   "execution_count": null,
   "metadata": {
    "colab": {
     "base_uri": "https://localhost:8080/"
    },
    "id": "jocLskJCXiIi",
    "outputId": "e4a9f664-6dd8-42da-e7fb-805438eafc89"
   },
   "outputs": [
    {
     "data": {
      "text/plain": [
       "(160, 9)"
      ]
     },
     "execution_count": 256,
     "metadata": {
      "tags": []
     },
     "output_type": "execute_result"
    }
   ],
   "source": [
    "df_1.shape"
   ]
  },
  {
   "cell_type": "code",
   "execution_count": null,
   "metadata": {
    "colab": {
     "base_uri": "https://localhost:8080/"
    },
    "id": "c9G5FWzCVNcF",
    "outputId": "c345ee9a-7d4a-4dca-8672-989d3e6ebbf3"
   },
   "outputs": [
    {
     "data": {
      "text/plain": [
       "(35, 9)"
      ]
     },
     "execution_count": 257,
     "metadata": {
      "tags": []
     },
     "output_type": "execute_result"
    }
   ],
   "source": [
    "df_1[df_1['CLEARING_DATE']<df_1['Creation_date']].shape"
   ]
  },
  {
   "cell_type": "code",
   "execution_count": null,
   "metadata": {
    "colab": {
     "base_uri": "https://localhost:8080/"
    },
    "id": "gzcsMLJCZjRG",
    "outputId": "60338a28-d3ee-449c-f6ae-d9c9620b5f33"
   },
   "outputs": [
    {
     "data": {
      "text/plain": [
       "(19, 9)"
      ]
     },
     "execution_count": 258,
     "metadata": {
      "tags": []
     },
     "output_type": "execute_result"
    }
   ],
   "source": [
    "df_1[df_1['Due_date']<df_1['Creation_date']].shape"
   ]
  },
  {
   "cell_type": "code",
   "execution_count": null,
   "metadata": {
    "id": "u_KAlf3aXDBd"
   },
   "outputs": [],
   "source": [
    "df_1=df_1.drop(index=df_1[df_1['CLEARING_DATE']<df_1['Creation_date']].index)\n",
    "df_1=df_1.drop(index=df_1[df_1['Due_date']<df_1['Creation_date']].index)"
   ]
  },
  {
   "cell_type": "code",
   "execution_count": null,
   "metadata": {
    "colab": {
     "base_uri": "https://localhost:8080/"
    },
    "id": "fmH0LgUEXsLk",
    "outputId": "45c4f2bd-1f37-4537-efa7-390775d256be"
   },
   "outputs": [
    {
     "data": {
      "text/plain": [
       "114"
      ]
     },
     "execution_count": 260,
     "metadata": {
      "tags": []
     },
     "output_type": "execute_result"
    }
   ],
   "source": [
    "df_1.shape[0]"
   ]
  },
  {
   "cell_type": "code",
   "execution_count": null,
   "metadata": {
    "colab": {
     "base_uri": "https://localhost:8080/"
    },
    "id": "namElg9BX7BJ",
    "outputId": "8f01eea5-b137-4cd6-8f0a-0b5b130ab564"
   },
   "outputs": [
    {
     "data": {
      "text/plain": [
       "Timestamp('2020-05-30 00:00:00')"
      ]
     },
     "execution_count": 261,
     "metadata": {
      "tags": []
     },
     "output_type": "execute_result"
    }
   ],
   "source": [
    "df_1['Creation_date'].max()"
   ]
  },
  {
   "cell_type": "code",
   "execution_count": null,
   "metadata": {
    "colab": {
     "base_uri": "https://localhost:8080/"
    },
    "id": "vxoYnPXDYFs7",
    "outputId": "55531d48-c277-46b8-deac-c590a41dcc22"
   },
   "outputs": [
    {
     "data": {
      "text/plain": [
       "Timestamp('2020-05-01 00:00:00')"
      ]
     },
     "execution_count": 262,
     "metadata": {
      "tags": []
     },
     "output_type": "execute_result"
    }
   ],
   "source": [
    "df_1['Creation_date'].min()"
   ]
  },
  {
   "cell_type": "code",
   "execution_count": null,
   "metadata": {
    "id": "wiQA0C6wZCnQ"
   },
   "outputs": [],
   "source": [
    "df_1['delay']=(df_1['CLEARING_DATE']-df_1['Due_date']).dt.days"
   ]
  },
  {
   "cell_type": "code",
   "execution_count": null,
   "metadata": {
    "colab": {
     "base_uri": "https://localhost:8080/"
    },
    "id": "SJf6kpPIZ_mV",
    "outputId": "89689271-adff-4237-e5e5-cc6d41e6699d"
   },
   "outputs": [
    {
     "data": {
      "text/plain": [
       "72    -25\n",
       "179    -9\n",
       "39    -52\n",
       "135   -47\n",
       "19    -61\n",
       "       ..\n",
       "8      12\n",
       "197    33\n",
       "199   -13\n",
       "93      9\n",
       "150   -12\n",
       "Name: delay, Length: 114, dtype: int64"
      ]
     },
     "execution_count": 264,
     "metadata": {
      "tags": []
     },
     "output_type": "execute_result"
    }
   ],
   "source": [
    "df_1['delay']"
   ]
  },
  {
   "cell_type": "code",
   "execution_count": null,
   "metadata": {
    "colab": {
     "base_uri": "https://localhost:8080/",
     "height": 415
    },
    "id": "juPTJTCKaCOs",
    "outputId": "d64fe281-dfe7-4255-ab2c-f2ff1ea8ac99"
   },
   "outputs": [
    {
     "data": {
      "text/html": [
       "<div>\n",
       "<style scoped>\n",
       "    .dataframe tbody tr th:only-of-type {\n",
       "        vertical-align: middle;\n",
       "    }\n",
       "\n",
       "    .dataframe tbody tr th {\n",
       "        vertical-align: top;\n",
       "    }\n",
       "\n",
       "    .dataframe thead th {\n",
       "        text-align: right;\n",
       "    }\n",
       "</style>\n",
       "<table border=\"1\" class=\"dataframe\">\n",
       "  <thead>\n",
       "    <tr style=\"text-align: right;\">\n",
       "      <th></th>\n",
       "      <th>CUSTOMER_NAME</th>\n",
       "      <th>Creation_date</th>\n",
       "      <th>Due_date</th>\n",
       "      <th>CLEARING_DATE</th>\n",
       "      <th>delay</th>\n",
       "    </tr>\n",
       "  </thead>\n",
       "  <tbody>\n",
       "    <tr>\n",
       "      <th>72</th>\n",
       "      <td>Riot</td>\n",
       "      <td>2020-05-01</td>\n",
       "      <td>2020-06-01</td>\n",
       "      <td>2020-05-07</td>\n",
       "      <td>-25</td>\n",
       "    </tr>\n",
       "    <tr>\n",
       "      <th>179</th>\n",
       "      <td>Pieper_chat</td>\n",
       "      <td>2020-05-04</td>\n",
       "      <td>2020-05-19</td>\n",
       "      <td>2020-05-10</td>\n",
       "      <td>-9</td>\n",
       "    </tr>\n",
       "    <tr>\n",
       "      <th>39</th>\n",
       "      <td>EndFrame</td>\n",
       "      <td>2020-05-09</td>\n",
       "      <td>2020-07-03</td>\n",
       "      <td>2020-05-12</td>\n",
       "      <td>-52</td>\n",
       "    </tr>\n",
       "    <tr>\n",
       "      <th>135</th>\n",
       "      <td>Hooli</td>\n",
       "      <td>2020-05-08</td>\n",
       "      <td>2020-06-28</td>\n",
       "      <td>2020-05-12</td>\n",
       "      <td>-47</td>\n",
       "    </tr>\n",
       "    <tr>\n",
       "      <th>19</th>\n",
       "      <td>GROW_MORE</td>\n",
       "      <td>2020-05-03</td>\n",
       "      <td>2020-07-13</td>\n",
       "      <td>2020-05-13</td>\n",
       "      <td>-61</td>\n",
       "    </tr>\n",
       "    <tr>\n",
       "      <th>...</th>\n",
       "      <td>...</td>\n",
       "      <td>...</td>\n",
       "      <td>...</td>\n",
       "      <td>...</td>\n",
       "      <td>...</td>\n",
       "    </tr>\n",
       "    <tr>\n",
       "      <th>8</th>\n",
       "      <td>Riot</td>\n",
       "      <td>2020-05-11</td>\n",
       "      <td>2020-06-22</td>\n",
       "      <td>2020-07-04</td>\n",
       "      <td>12</td>\n",
       "    </tr>\n",
       "    <tr>\n",
       "      <th>197</th>\n",
       "      <td>GROW_MORE</td>\n",
       "      <td>2020-05-03</td>\n",
       "      <td>2020-06-02</td>\n",
       "      <td>2020-07-05</td>\n",
       "      <td>33</td>\n",
       "    </tr>\n",
       "    <tr>\n",
       "      <th>199</th>\n",
       "      <td>Laxmi_Funds_25days</td>\n",
       "      <td>2020-05-09</td>\n",
       "      <td>2020-07-21</td>\n",
       "      <td>2020-07-08</td>\n",
       "      <td>-13</td>\n",
       "    </tr>\n",
       "    <tr>\n",
       "      <th>93</th>\n",
       "      <td>Riot</td>\n",
       "      <td>2020-05-29</td>\n",
       "      <td>2020-06-29</td>\n",
       "      <td>2020-07-08</td>\n",
       "      <td>9</td>\n",
       "    </tr>\n",
       "    <tr>\n",
       "      <th>150</th>\n",
       "      <td>Hooli</td>\n",
       "      <td>2020-05-06</td>\n",
       "      <td>2020-07-21</td>\n",
       "      <td>2020-07-09</td>\n",
       "      <td>-12</td>\n",
       "    </tr>\n",
       "  </tbody>\n",
       "</table>\n",
       "<p>114 rows × 5 columns</p>\n",
       "</div>"
      ],
      "text/plain": [
       "          CUSTOMER_NAME Creation_date   Due_date CLEARING_DATE  delay\n",
       "72                 Riot    2020-05-01 2020-06-01    2020-05-07    -25\n",
       "179         Pieper_chat    2020-05-04 2020-05-19    2020-05-10     -9\n",
       "39             EndFrame    2020-05-09 2020-07-03    2020-05-12    -52\n",
       "135               Hooli    2020-05-08 2020-06-28    2020-05-12    -47\n",
       "19            GROW_MORE    2020-05-03 2020-07-13    2020-05-13    -61\n",
       "..                  ...           ...        ...           ...    ...\n",
       "8                  Riot    2020-05-11 2020-06-22    2020-07-04     12\n",
       "197           GROW_MORE    2020-05-03 2020-06-02    2020-07-05     33\n",
       "199  Laxmi_Funds_25days    2020-05-09 2020-07-21    2020-07-08    -13\n",
       "93                 Riot    2020-05-29 2020-06-29    2020-07-08      9\n",
       "150               Hooli    2020-05-06 2020-07-21    2020-07-09    -12\n",
       "\n",
       "[114 rows x 5 columns]"
      ]
     },
     "execution_count": 265,
     "metadata": {
      "tags": []
     },
     "output_type": "execute_result"
    }
   ],
   "source": [
    "df_1.loc[:,['CUSTOMER_NAME','Creation_date','Due_date','CLEARING_DATE','delay']]"
   ]
  },
  {
   "cell_type": "code",
   "execution_count": null,
   "metadata": {
    "id": "Tb9pOgfvYKjL"
   },
   "outputs": [],
   "source": [
    "df_1['Weekday']=df_1['Creation_date'].dt.weekday"
   ]
  },
  {
   "cell_type": "code",
   "execution_count": null,
   "metadata": {
    "id": "tAlrAJAQa9QJ"
   },
   "outputs": [],
   "source": []
  },
  {
   "cell_type": "code",
   "execution_count": null,
   "metadata": {
    "id": "cigMVlvEYjI3"
   },
   "outputs": [],
   "source": [
    "def catog_delay(x):\n",
    "  if x<=0:\n",
    "    return 0\n",
    "  else: \n",
    "    return 1"
   ]
  },
  {
   "cell_type": "code",
   "execution_count": null,
   "metadata": {
    "colab": {
     "base_uri": "https://localhost:8080/"
    },
    "id": "31d8eeF9arJt",
    "outputId": "121b44df-6a6b-462e-fe59-97addbff90f7"
   },
   "outputs": [
    {
     "data": {
      "text/plain": [
       "count    114.000000\n",
       "mean     -15.622807\n",
       "std       24.587352\n",
       "min      -69.000000\n",
       "25%      -31.500000\n",
       "50%      -14.500000\n",
       "75%        0.750000\n",
       "max       42.000000\n",
       "Name: delay, dtype: float64"
      ]
     },
     "execution_count": 268,
     "metadata": {
      "tags": []
     },
     "output_type": "execute_result"
    }
   ],
   "source": [
    "df_1['delay'].describe()"
   ]
  },
  {
   "cell_type": "markdown",
   "metadata": {
    "id": "51vGDUyuImW_"
   },
   "source": [
    "mapper"
   ]
  },
  {
   "cell_type": "code",
   "execution_count": null,
   "metadata": {
    "id": "amW_1Hj0TmoJ"
   },
   "outputs": [],
   "source": []
  },
  {
   "cell_type": "code",
   "execution_count": null,
   "metadata": {
    "id": "Yvgk88CkVFwO"
   },
   "outputs": [],
   "source": []
  },
  {
   "cell_type": "code",
   "execution_count": null,
   "metadata": {
    "id": "qkh46y7BIof6"
   },
   "outputs": [],
   "source": []
  },
  {
   "cell_type": "code",
   "execution_count": null,
   "metadata": {
    "colab": {
     "base_uri": "https://localhost:8080/",
     "height": 415
    },
    "id": "XM-8sq8dIxTd",
    "outputId": "6bd1f587-8c03-4217-af5a-83128b8c4b18"
   },
   "outputs": [
    {
     "data": {
      "text/html": [
       "<div>\n",
       "<style scoped>\n",
       "    .dataframe tbody tr th:only-of-type {\n",
       "        vertical-align: middle;\n",
       "    }\n",
       "\n",
       "    .dataframe tbody tr th {\n",
       "        vertical-align: top;\n",
       "    }\n",
       "\n",
       "    .dataframe thead th {\n",
       "        text-align: right;\n",
       "    }\n",
       "</style>\n",
       "<table border=\"1\" class=\"dataframe\">\n",
       "  <thead>\n",
       "    <tr style=\"text-align: right;\">\n",
       "      <th></th>\n",
       "      <th>INVOICE_NUMBER</th>\n",
       "      <th>Creation_date</th>\n",
       "      <th>Amount($)</th>\n",
       "      <th>Region</th>\n",
       "      <th>Due_date</th>\n",
       "      <th>CLEARING_DATE</th>\n",
       "      <th>CUSTOMER_NAME</th>\n",
       "      <th>Business_Area</th>\n",
       "      <th>delay</th>\n",
       "      <th>Weekday</th>\n",
       "    </tr>\n",
       "  </thead>\n",
       "  <tbody>\n",
       "    <tr>\n",
       "      <th>72</th>\n",
       "      <td>1001267</td>\n",
       "      <td>2020-05-01</td>\n",
       "      <td>360.7</td>\n",
       "      <td>LATAM</td>\n",
       "      <td>2020-06-01</td>\n",
       "      <td>2020-05-07</td>\n",
       "      <td>Riot</td>\n",
       "      <td>LATAM</td>\n",
       "      <td>-25</td>\n",
       "      <td>4</td>\n",
       "    </tr>\n",
       "    <tr>\n",
       "      <th>179</th>\n",
       "      <td>1001675</td>\n",
       "      <td>2020-05-04</td>\n",
       "      <td>668.92</td>\n",
       "      <td>LATAM</td>\n",
       "      <td>2020-05-19</td>\n",
       "      <td>2020-05-10</td>\n",
       "      <td>Pieper_chat</td>\n",
       "      <td>LATAM</td>\n",
       "      <td>-9</td>\n",
       "      <td>0</td>\n",
       "    </tr>\n",
       "    <tr>\n",
       "      <th>39</th>\n",
       "      <td>1001731</td>\n",
       "      <td>2020-05-09</td>\n",
       "      <td>59.34</td>\n",
       "      <td>NA</td>\n",
       "      <td>2020-07-03</td>\n",
       "      <td>2020-05-12</td>\n",
       "      <td>EndFrame</td>\n",
       "      <td>NA</td>\n",
       "      <td>-52</td>\n",
       "      <td>5</td>\n",
       "    </tr>\n",
       "    <tr>\n",
       "      <th>135</th>\n",
       "      <td>1001456</td>\n",
       "      <td>2020-05-08</td>\n",
       "      <td>922.6</td>\n",
       "      <td>SA</td>\n",
       "      <td>2020-06-28</td>\n",
       "      <td>2020-05-12</td>\n",
       "      <td>Hooli</td>\n",
       "      <td>SA</td>\n",
       "      <td>-47</td>\n",
       "      <td>4</td>\n",
       "    </tr>\n",
       "    <tr>\n",
       "      <th>19</th>\n",
       "      <td>1001782</td>\n",
       "      <td>2020-05-03</td>\n",
       "      <td>582.48</td>\n",
       "      <td>NA</td>\n",
       "      <td>2020-07-13</td>\n",
       "      <td>2020-05-13</td>\n",
       "      <td>GROW_MORE</td>\n",
       "      <td>NA</td>\n",
       "      <td>-61</td>\n",
       "      <td>6</td>\n",
       "    </tr>\n",
       "    <tr>\n",
       "      <th>...</th>\n",
       "      <td>...</td>\n",
       "      <td>...</td>\n",
       "      <td>...</td>\n",
       "      <td>...</td>\n",
       "      <td>...</td>\n",
       "      <td>...</td>\n",
       "      <td>...</td>\n",
       "      <td>...</td>\n",
       "      <td>...</td>\n",
       "      <td>...</td>\n",
       "    </tr>\n",
       "    <tr>\n",
       "      <th>8</th>\n",
       "      <td>1001605</td>\n",
       "      <td>2020-05-11</td>\n",
       "      <td>277.72</td>\n",
       "      <td>NA</td>\n",
       "      <td>2020-06-22</td>\n",
       "      <td>2020-07-04</td>\n",
       "      <td>Riot</td>\n",
       "      <td>NA</td>\n",
       "      <td>12</td>\n",
       "      <td>0</td>\n",
       "    </tr>\n",
       "    <tr>\n",
       "      <th>197</th>\n",
       "      <td>1001694</td>\n",
       "      <td>2020-05-03</td>\n",
       "      <td>249.16</td>\n",
       "      <td>SA</td>\n",
       "      <td>2020-06-02</td>\n",
       "      <td>2020-07-05</td>\n",
       "      <td>GROW_MORE</td>\n",
       "      <td>SA</td>\n",
       "      <td>33</td>\n",
       "      <td>6</td>\n",
       "    </tr>\n",
       "    <tr>\n",
       "      <th>199</th>\n",
       "      <td>1001302</td>\n",
       "      <td>2020-05-09</td>\n",
       "      <td>247.41</td>\n",
       "      <td>NA</td>\n",
       "      <td>2020-07-21</td>\n",
       "      <td>2020-07-08</td>\n",
       "      <td>Laxmi_Funds_25days</td>\n",
       "      <td>NA</td>\n",
       "      <td>-13</td>\n",
       "      <td>5</td>\n",
       "    </tr>\n",
       "    <tr>\n",
       "      <th>93</th>\n",
       "      <td>1001281</td>\n",
       "      <td>2020-05-29</td>\n",
       "      <td>468.72</td>\n",
       "      <td>NZ</td>\n",
       "      <td>2020-06-29</td>\n",
       "      <td>2020-07-08</td>\n",
       "      <td>Riot</td>\n",
       "      <td>NZ</td>\n",
       "      <td>9</td>\n",
       "      <td>4</td>\n",
       "    </tr>\n",
       "    <tr>\n",
       "      <th>150</th>\n",
       "      <td>1001615</td>\n",
       "      <td>2020-05-06</td>\n",
       "      <td>547.74</td>\n",
       "      <td>NA</td>\n",
       "      <td>2020-07-21</td>\n",
       "      <td>2020-07-09</td>\n",
       "      <td>Hooli</td>\n",
       "      <td>NA</td>\n",
       "      <td>-12</td>\n",
       "      <td>2</td>\n",
       "    </tr>\n",
       "  </tbody>\n",
       "</table>\n",
       "<p>114 rows × 10 columns</p>\n",
       "</div>"
      ],
      "text/plain": [
       "    INVOICE_NUMBER Creation_date Amount($)  ... Business_Area delay Weekday\n",
       "72         1001267    2020-05-01     360.7  ...         LATAM   -25       4\n",
       "179        1001675    2020-05-04    668.92  ...         LATAM    -9       0\n",
       "39         1001731    2020-05-09     59.34  ...            NA   -52       5\n",
       "135        1001456    2020-05-08     922.6  ...            SA   -47       4\n",
       "19         1001782    2020-05-03    582.48  ...            NA   -61       6\n",
       "..             ...           ...       ...  ...           ...   ...     ...\n",
       "8          1001605    2020-05-11    277.72  ...            NA    12       0\n",
       "197        1001694    2020-05-03    249.16  ...            SA    33       6\n",
       "199        1001302    2020-05-09    247.41  ...            NA   -13       5\n",
       "93         1001281    2020-05-29    468.72  ...            NZ     9       4\n",
       "150        1001615    2020-05-06    547.74  ...            NA   -12       2\n",
       "\n",
       "[114 rows x 10 columns]"
      ]
     },
     "execution_count": 269,
     "metadata": {
      "tags": []
     },
     "output_type": "execute_result"
    }
   ],
   "source": [
    "df_1"
   ]
  },
  {
   "cell_type": "code",
   "execution_count": null,
   "metadata": {
    "colab": {
     "base_uri": "https://localhost:8080/",
     "height": 669
    },
    "id": "wQTiAkQBHkuJ",
    "outputId": "48d8b6e9-2dfa-450f-a41a-b5cb52ab873a"
   },
   "outputs": [
    {
     "name": "stderr",
     "output_type": "stream",
     "text": [
      "/usr/local/lib/python3.6/dist-packages/seaborn/_decorators.py:43: FutureWarning: Pass the following variables as keyword args: x, y. From version 0.12, the only valid positional argument will be `data`, and passing other arguments without an explicit keyword will result in an error or misinterpretation.\n",
      "  FutureWarning\n"
     ]
    },
    {
     "data": {
      "image/png": "[encoded data removed]",
      "text/plain": [
       "<Figure size 1440x720 with 1 Axes>"
      ]
     },
     "metadata": {
      "needs_background": "light",
      "tags": []
     },
     "output_type": "display_data"
    }
   ],
   "source": [
    "plt.figure(figsize=(20,10))\n",
    "sns.lineplot(df_1['Creation_date'], df_1['delay'])\n",
    "plt.xlabel(\"Create Date\")\n",
    "plt.ylabel(\"Delay\")\n",
    "plt.title(\"Create Date vs Delay\")\n",
    "plt.show()"
   ]
  },
  {
   "cell_type": "code",
   "execution_count": null,
   "metadata": {
    "colab": {
     "base_uri": "https://localhost:8080/",
     "height": 669
    },
    "id": "lxBvcQd5WR78",
    "outputId": "821642bc-9dc6-4c7e-a07b-0289e8b732c0"
   },
   "outputs": [
    {
     "name": "stderr",
     "output_type": "stream",
     "text": [
      "/usr/local/lib/python3.6/dist-packages/seaborn/_decorators.py:43: FutureWarning: Pass the following variables as keyword args: x, y. From version 0.12, the only valid positional argument will be `data`, and passing other arguments without an explicit keyword will result in an error or misinterpretation.\n",
      "  FutureWarning\n"
     ]
    },
    {
     "data": {
      "image/png": "[encoded data removed]",
      "text/plain": [
       "<Figure size 1440x720 with 1 Axes>"
      ]
     },
     "metadata": {
      "needs_background": "light",
      "tags": []
     },
     "output_type": "display_data"
    }
   ],
   "source": [
    "plt.figure(figsize=(20,10))\n",
    "sns.lineplot(df_1['Due_date'].dt.dayofweek, df_1['delay'])\n",
    "plt.xlabel(\"Due Week Day\")\n",
    "plt.ylabel(\"Delay\")\n",
    "plt.title(\"Week Day vs Delay\")\n",
    "plt.show()"
   ]
  },
  {
   "cell_type": "code",
   "execution_count": null,
   "metadata": {
    "colab": {
     "base_uri": "https://localhost:8080/",
     "height": 669
    },
    "id": "E36_Ke2FG_6R",
    "outputId": "aee78ac1-ab25-4671-f112-2d7800c24905"
   },
   "outputs": [
    {
     "name": "stderr",
     "output_type": "stream",
     "text": [
      "/usr/local/lib/python3.6/dist-packages/seaborn/_decorators.py:43: FutureWarning: Pass the following variables as keyword args: x, y. From version 0.12, the only valid positional argument will be `data`, and passing other arguments without an explicit keyword will result in an error or misinterpretation.\n",
      "  FutureWarning\n"
     ]
    },
    {
     "data": {
      "image/png": "[encoded data removed]",
      "text/plain": [
       "<Figure size 1440x720 with 1 Axes>"
      ]
     },
     "metadata": {
      "needs_background": "light",
      "tags": []
     },
     "output_type": "display_data"
    }
   ],
   "source": [
    "plt.figure(figsize=(20,10))\n",
    "sns.lineplot(df_1['Due_date'].dt.day, df_1['delay'])\n",
    "plt.xlabel(\"Day\")\n",
    "plt.ylabel(\"Delay\")\n",
    "plt.title(\"Day vs Delay\")\n",
    "plt.show()"
   ]
  },
  {
   "cell_type": "code",
   "execution_count": null,
   "metadata": {
    "id": "AdrL2lBNHYdH"
   },
   "outputs": [],
   "source": []
  },
  {
   "cell_type": "markdown",
   "metadata": {
    "id": "d-rEkWpNI2HB"
   },
   "source": [
    "#Feature Engineering "
   ]
  },
  {
   "cell_type": "markdown",
   "metadata": {
    "id": "dMT2ZrA9JBNl"
   },
   "source": [
    "Mapper "
   ]
  },
  {
   "cell_type": "code",
   "execution_count": null,
   "metadata": {
    "id": "4kx3cDYsI4ml"
   },
   "outputs": [],
   "source": [
    "map_cust=df_1.groupby(\"CUSTOMER_NAME\")['delay'].mean().to_dict()"
   ]
  },
  {
   "cell_type": "code",
   "execution_count": null,
   "metadata": {
    "colab": {
     "base_uri": "https://localhost:8080/"
    },
    "id": "EgK0x3xEMpF3",
    "outputId": "b8583768-e175-4fa8-d9a3-70ae0cca56c8"
   },
   "outputs": [
    {
     "data": {
      "text/plain": [
       "{'EndFrame': -19.6,\n",
       " 'GROW_MORE': -13.833333333333334,\n",
       " 'Hooli': -4.583333333333333,\n",
       " 'Laxmi_Funds_25days': -17.894736842105264,\n",
       " 'Pieper_chat': -13.5,\n",
       " 'Riot': -20.047619047619047}"
      ]
     },
     "execution_count": 274,
     "metadata": {
      "tags": []
     },
     "output_type": "execute_result"
    }
   ],
   "source": [
    "map_cust"
   ]
  },
  {
   "cell_type": "code",
   "execution_count": null,
   "metadata": {
    "colab": {
     "base_uri": "https://localhost:8080/",
     "height": 415
    },
    "id": "y92QNyfBJDlN",
    "outputId": "5bd5c7eb-4b44-4013-d2e9-320a3580069d"
   },
   "outputs": [
    {
     "data": {
      "text/html": [
       "<div>\n",
       "<style scoped>\n",
       "    .dataframe tbody tr th:only-of-type {\n",
       "        vertical-align: middle;\n",
       "    }\n",
       "\n",
       "    .dataframe tbody tr th {\n",
       "        vertical-align: top;\n",
       "    }\n",
       "\n",
       "    .dataframe thead th {\n",
       "        text-align: right;\n",
       "    }\n",
       "</style>\n",
       "<table border=\"1\" class=\"dataframe\">\n",
       "  <thead>\n",
       "    <tr style=\"text-align: right;\">\n",
       "      <th></th>\n",
       "      <th>INVOICE_NUMBER</th>\n",
       "      <th>Creation_date</th>\n",
       "      <th>Amount($)</th>\n",
       "      <th>Region</th>\n",
       "      <th>Due_date</th>\n",
       "      <th>CLEARING_DATE</th>\n",
       "      <th>CUSTOMER_NAME</th>\n",
       "      <th>Business_Area</th>\n",
       "      <th>delay</th>\n",
       "      <th>Weekday</th>\n",
       "      <th>Cust Mean Delay</th>\n",
       "    </tr>\n",
       "  </thead>\n",
       "  <tbody>\n",
       "    <tr>\n",
       "      <th>72</th>\n",
       "      <td>1001267</td>\n",
       "      <td>2020-05-01</td>\n",
       "      <td>360.7</td>\n",
       "      <td>LATAM</td>\n",
       "      <td>2020-06-01</td>\n",
       "      <td>2020-05-07</td>\n",
       "      <td>Riot</td>\n",
       "      <td>LATAM</td>\n",
       "      <td>-25</td>\n",
       "      <td>4</td>\n",
       "      <td>-20.047619</td>\n",
       "    </tr>\n",
       "    <tr>\n",
       "      <th>179</th>\n",
       "      <td>1001675</td>\n",
       "      <td>2020-05-04</td>\n",
       "      <td>668.92</td>\n",
       "      <td>LATAM</td>\n",
       "      <td>2020-05-19</td>\n",
       "      <td>2020-05-10</td>\n",
       "      <td>Pieper_chat</td>\n",
       "      <td>LATAM</td>\n",
       "      <td>-9</td>\n",
       "      <td>0</td>\n",
       "      <td>-13.500000</td>\n",
       "    </tr>\n",
       "    <tr>\n",
       "      <th>39</th>\n",
       "      <td>1001731</td>\n",
       "      <td>2020-05-09</td>\n",
       "      <td>59.34</td>\n",
       "      <td>NA</td>\n",
       "      <td>2020-07-03</td>\n",
       "      <td>2020-05-12</td>\n",
       "      <td>EndFrame</td>\n",
       "      <td>NA</td>\n",
       "      <td>-52</td>\n",
       "      <td>5</td>\n",
       "      <td>-19.600000</td>\n",
       "    </tr>\n",
       "    <tr>\n",
       "      <th>135</th>\n",
       "      <td>1001456</td>\n",
       "      <td>2020-05-08</td>\n",
       "      <td>922.6</td>\n",
       "      <td>SA</td>\n",
       "      <td>2020-06-28</td>\n",
       "      <td>2020-05-12</td>\n",
       "      <td>Hooli</td>\n",
       "      <td>SA</td>\n",
       "      <td>-47</td>\n",
       "      <td>4</td>\n",
       "      <td>-4.583333</td>\n",
       "    </tr>\n",
       "    <tr>\n",
       "      <th>19</th>\n",
       "      <td>1001782</td>\n",
       "      <td>2020-05-03</td>\n",
       "      <td>582.48</td>\n",
       "      <td>NA</td>\n",
       "      <td>2020-07-13</td>\n",
       "      <td>2020-05-13</td>\n",
       "      <td>GROW_MORE</td>\n",
       "      <td>NA</td>\n",
       "      <td>-61</td>\n",
       "      <td>6</td>\n",
       "      <td>-13.833333</td>\n",
       "    </tr>\n",
       "    <tr>\n",
       "      <th>...</th>\n",
       "      <td>...</td>\n",
       "      <td>...</td>\n",
       "      <td>...</td>\n",
       "      <td>...</td>\n",
       "      <td>...</td>\n",
       "      <td>...</td>\n",
       "      <td>...</td>\n",
       "      <td>...</td>\n",
       "      <td>...</td>\n",
       "      <td>...</td>\n",
       "      <td>...</td>\n",
       "    </tr>\n",
       "    <tr>\n",
       "      <th>8</th>\n",
       "      <td>1001605</td>\n",
       "      <td>2020-05-11</td>\n",
       "      <td>277.72</td>\n",
       "      <td>NA</td>\n",
       "      <td>2020-06-22</td>\n",
       "      <td>2020-07-04</td>\n",
       "      <td>Riot</td>\n",
       "      <td>NA</td>\n",
       "      <td>12</td>\n",
       "      <td>0</td>\n",
       "      <td>-20.047619</td>\n",
       "    </tr>\n",
       "    <tr>\n",
       "      <th>197</th>\n",
       "      <td>1001694</td>\n",
       "      <td>2020-05-03</td>\n",
       "      <td>249.16</td>\n",
       "      <td>SA</td>\n",
       "      <td>2020-06-02</td>\n",
       "      <td>2020-07-05</td>\n",
       "      <td>GROW_MORE</td>\n",
       "      <td>SA</td>\n",
       "      <td>33</td>\n",
       "      <td>6</td>\n",
       "      <td>-13.833333</td>\n",
       "    </tr>\n",
       "    <tr>\n",
       "      <th>199</th>\n",
       "      <td>1001302</td>\n",
       "      <td>2020-05-09</td>\n",
       "      <td>247.41</td>\n",
       "      <td>NA</td>\n",
       "      <td>2020-07-21</td>\n",
       "      <td>2020-07-08</td>\n",
       "      <td>Laxmi_Funds_25days</td>\n",
       "      <td>NA</td>\n",
       "      <td>-13</td>\n",
       "      <td>5</td>\n",
       "      <td>-17.894737</td>\n",
       "    </tr>\n",
       "    <tr>\n",
       "      <th>93</th>\n",
       "      <td>1001281</td>\n",
       "      <td>2020-05-29</td>\n",
       "      <td>468.72</td>\n",
       "      <td>NZ</td>\n",
       "      <td>2020-06-29</td>\n",
       "      <td>2020-07-08</td>\n",
       "      <td>Riot</td>\n",
       "      <td>NZ</td>\n",
       "      <td>9</td>\n",
       "      <td>4</td>\n",
       "      <td>-20.047619</td>\n",
       "    </tr>\n",
       "    <tr>\n",
       "      <th>150</th>\n",
       "      <td>1001615</td>\n",
       "      <td>2020-05-06</td>\n",
       "      <td>547.74</td>\n",
       "      <td>NA</td>\n",
       "      <td>2020-07-21</td>\n",
       "      <td>2020-07-09</td>\n",
       "      <td>Hooli</td>\n",
       "      <td>NA</td>\n",
       "      <td>-12</td>\n",
       "      <td>2</td>\n",
       "      <td>-4.583333</td>\n",
       "    </tr>\n",
       "  </tbody>\n",
       "</table>\n",
       "<p>114 rows × 11 columns</p>\n",
       "</div>"
      ],
      "text/plain": [
       "    INVOICE_NUMBER Creation_date Amount($)  ... delay Weekday Cust Mean Delay\n",
       "72         1001267    2020-05-01     360.7  ...   -25       4      -20.047619\n",
       "179        1001675    2020-05-04    668.92  ...    -9       0      -13.500000\n",
       "39         1001731    2020-05-09     59.34  ...   -52       5      -19.600000\n",
       "135        1001456    2020-05-08     922.6  ...   -47       4       -4.583333\n",
       "19         1001782    2020-05-03    582.48  ...   -61       6      -13.833333\n",
       "..             ...           ...       ...  ...   ...     ...             ...\n",
       "8          1001605    2020-05-11    277.72  ...    12       0      -20.047619\n",
       "197        1001694    2020-05-03    249.16  ...    33       6      -13.833333\n",
       "199        1001302    2020-05-09    247.41  ...   -13       5      -17.894737\n",
       "93         1001281    2020-05-29    468.72  ...     9       4      -20.047619\n",
       "150        1001615    2020-05-06    547.74  ...   -12       2       -4.583333\n",
       "\n",
       "[114 rows x 11 columns]"
      ]
     },
     "execution_count": 275,
     "metadata": {
      "tags": []
     },
     "output_type": "execute_result"
    }
   ],
   "source": [
    "df_1['Cust Mean Delay']=df_1['CUSTOMER_NAME'].map(map_cust)\n",
    "df_1"
   ]
  },
  {
   "cell_type": "code",
   "execution_count": null,
   "metadata": {
    "colab": {
     "base_uri": "https://localhost:8080/"
    },
    "id": "3_RyoNhSQ-dy",
    "outputId": "86d93fad-62f8-4538-a37b-e3a894cab003"
   },
   "outputs": [
    {
     "data": {
      "text/plain": [
       "Index(['INVOICE_NUMBER', 'Creation_date', 'Amount($)', 'Region', 'Due_date',\n",
       "       'CLEARING_DATE', 'CUSTOMER_NAME', 'Business_Area', 'delay'],\n",
       "      dtype='object')"
      ]
     },
     "execution_count": 276,
     "metadata": {
      "tags": []
     },
     "output_type": "execute_result"
    }
   ],
   "source": [
    "val.columns"
   ]
  },
  {
   "cell_type": "code",
   "execution_count": null,
   "metadata": {
    "colab": {
     "base_uri": "https://localhost:8080/",
     "height": 749
    },
    "id": "fUT-mAT9MymB",
    "outputId": "bd160aa0-9e4f-4b5c-cdce-41524aac6313"
   },
   "outputs": [
    {
     "name": "stderr",
     "output_type": "stream",
     "text": [
      "/usr/local/lib/python3.6/dist-packages/ipykernel_launcher.py:2: SettingWithCopyWarning: \n",
      "A value is trying to be set on a copy of a slice from a DataFrame\n",
      "\n",
      "See the caveats in the documentation: https://pandas.pydata.org/pandas-docs/stable/user_guide/indexing.html#returning-a-view-versus-a-copy\n",
      "  \n"
     ]
    },
    {
     "data": {
      "text/html": [
       "<div>\n",
       "<style scoped>\n",
       "    .dataframe tbody tr th:only-of-type {\n",
       "        vertical-align: middle;\n",
       "    }\n",
       "\n",
       "    .dataframe tbody tr th {\n",
       "        vertical-align: top;\n",
       "    }\n",
       "\n",
       "    .dataframe thead th {\n",
       "        text-align: right;\n",
       "    }\n",
       "</style>\n",
       "<table border=\"1\" class=\"dataframe\">\n",
       "  <thead>\n",
       "    <tr style=\"text-align: right;\">\n",
       "      <th></th>\n",
       "      <th>INVOICE_NUMBER</th>\n",
       "      <th>Creation_date</th>\n",
       "      <th>Amount($)</th>\n",
       "      <th>Region</th>\n",
       "      <th>Due_date</th>\n",
       "      <th>CLEARING_DATE</th>\n",
       "      <th>CUSTOMER_NAME</th>\n",
       "      <th>Business_Area</th>\n",
       "      <th>delay</th>\n",
       "      <th>Cust Mean Delay</th>\n",
       "    </tr>\n",
       "  </thead>\n",
       "  <tbody>\n",
       "    <tr>\n",
       "      <th>102</th>\n",
       "      <td>1001898</td>\n",
       "      <td>2020-05-02</td>\n",
       "      <td>672.15</td>\n",
       "      <td>NA</td>\n",
       "      <td>2020-05-15</td>\n",
       "      <td>2020-07-09</td>\n",
       "      <td>Laxmi_Funds_25days</td>\n",
       "      <td>NA</td>\n",
       "      <td>55</td>\n",
       "      <td>-17.894737</td>\n",
       "    </tr>\n",
       "    <tr>\n",
       "      <th>12</th>\n",
       "      <td>1001159</td>\n",
       "      <td>2020-05-27</td>\n",
       "      <td>236.41</td>\n",
       "      <td>LATAM</td>\n",
       "      <td>2020-05-23</td>\n",
       "      <td>2020-07-09</td>\n",
       "      <td>Hooli</td>\n",
       "      <td>LATAM</td>\n",
       "      <td>47</td>\n",
       "      <td>-4.583333</td>\n",
       "    </tr>\n",
       "    <tr>\n",
       "      <th>183</th>\n",
       "      <td>1001450</td>\n",
       "      <td>2020-05-06</td>\n",
       "      <td>384.21</td>\n",
       "      <td>LATAM</td>\n",
       "      <td>2020-07-01</td>\n",
       "      <td>2020-07-10</td>\n",
       "      <td>Riot</td>\n",
       "      <td>LATAM</td>\n",
       "      <td>9</td>\n",
       "      <td>-20.047619</td>\n",
       "    </tr>\n",
       "    <tr>\n",
       "      <th>175</th>\n",
       "      <td>1001615</td>\n",
       "      <td>2020-05-04</td>\n",
       "      <td>261.21</td>\n",
       "      <td>NA</td>\n",
       "      <td>2020-05-28</td>\n",
       "      <td>2020-07-10</td>\n",
       "      <td>EndFrame</td>\n",
       "      <td>NA</td>\n",
       "      <td>43</td>\n",
       "      <td>-19.600000</td>\n",
       "    </tr>\n",
       "    <tr>\n",
       "      <th>173</th>\n",
       "      <td>1001787</td>\n",
       "      <td>2020-05-04</td>\n",
       "      <td>989.56</td>\n",
       "      <td>LATAM</td>\n",
       "      <td>2020-06-22</td>\n",
       "      <td>2020-07-10</td>\n",
       "      <td>EndFrame</td>\n",
       "      <td>LATAM</td>\n",
       "      <td>18</td>\n",
       "      <td>-19.600000</td>\n",
       "    </tr>\n",
       "    <tr>\n",
       "      <th>178</th>\n",
       "      <td>1001205</td>\n",
       "      <td>2020-05-05</td>\n",
       "      <td>922.51</td>\n",
       "      <td>SA</td>\n",
       "      <td>2020-07-02</td>\n",
       "      <td>2020-07-11</td>\n",
       "      <td>EndFrame</td>\n",
       "      <td>SA</td>\n",
       "      <td>9</td>\n",
       "      <td>-19.600000</td>\n",
       "    </tr>\n",
       "    <tr>\n",
       "      <th>48</th>\n",
       "      <td>1001344</td>\n",
       "      <td>2020-05-10</td>\n",
       "      <td>79.47</td>\n",
       "      <td>SA</td>\n",
       "      <td>2020-05-27</td>\n",
       "      <td>2020-07-11</td>\n",
       "      <td>Riot</td>\n",
       "      <td>SA</td>\n",
       "      <td>45</td>\n",
       "      <td>-20.047619</td>\n",
       "    </tr>\n",
       "    <tr>\n",
       "      <th>90</th>\n",
       "      <td>1001595</td>\n",
       "      <td>2020-05-23</td>\n",
       "      <td>172.50</td>\n",
       "      <td>NA</td>\n",
       "      <td>2020-05-10</td>\n",
       "      <td>2020-07-13</td>\n",
       "      <td>Hooli</td>\n",
       "      <td>NA</td>\n",
       "      <td>64</td>\n",
       "      <td>-4.583333</td>\n",
       "    </tr>\n",
       "    <tr>\n",
       "      <th>98</th>\n",
       "      <td>1001178</td>\n",
       "      <td>2020-05-03</td>\n",
       "      <td>701.78</td>\n",
       "      <td>NA</td>\n",
       "      <td>2020-07-02</td>\n",
       "      <td>2020-07-13</td>\n",
       "      <td>Hooli</td>\n",
       "      <td>NA</td>\n",
       "      <td>11</td>\n",
       "      <td>-4.583333</td>\n",
       "    </tr>\n",
       "    <tr>\n",
       "      <th>115</th>\n",
       "      <td>1001778</td>\n",
       "      <td>2020-05-14</td>\n",
       "      <td>675.80</td>\n",
       "      <td>LATAM</td>\n",
       "      <td>2020-07-11</td>\n",
       "      <td>2020-07-13</td>\n",
       "      <td>Laxmi_Funds_25days</td>\n",
       "      <td>LATAM</td>\n",
       "      <td>2</td>\n",
       "      <td>-17.894737</td>\n",
       "    </tr>\n",
       "    <tr>\n",
       "      <th>121</th>\n",
       "      <td>1001565</td>\n",
       "      <td>2020-05-15</td>\n",
       "      <td>556.47</td>\n",
       "      <td>LATAM</td>\n",
       "      <td>2020-07-23</td>\n",
       "      <td>2020-07-14</td>\n",
       "      <td>Riot</td>\n",
       "      <td>LATAM</td>\n",
       "      <td>-9</td>\n",
       "      <td>-20.047619</td>\n",
       "    </tr>\n",
       "    <tr>\n",
       "      <th>189</th>\n",
       "      <td>1001759</td>\n",
       "      <td>2020-05-09</td>\n",
       "      <td>366.67</td>\n",
       "      <td>NZ</td>\n",
       "      <td>2020-07-22</td>\n",
       "      <td>2020-07-15</td>\n",
       "      <td>EndFrame</td>\n",
       "      <td>NZ</td>\n",
       "      <td>-7</td>\n",
       "      <td>-19.600000</td>\n",
       "    </tr>\n",
       "    <tr>\n",
       "      <th>109</th>\n",
       "      <td>1001735</td>\n",
       "      <td>2020-05-20</td>\n",
       "      <td>133.34</td>\n",
       "      <td>NZ</td>\n",
       "      <td>2020-05-15</td>\n",
       "      <td>2020-07-15</td>\n",
       "      <td>Laxmi_Funds_25days</td>\n",
       "      <td>NZ</td>\n",
       "      <td>61</td>\n",
       "      <td>-17.894737</td>\n",
       "    </tr>\n",
       "    <tr>\n",
       "      <th>46</th>\n",
       "      <td>1001609</td>\n",
       "      <td>2020-05-22</td>\n",
       "      <td>934.95</td>\n",
       "      <td>NZ</td>\n",
       "      <td>2020-05-19</td>\n",
       "      <td>2020-07-16</td>\n",
       "      <td>Pieper_chat</td>\n",
       "      <td>NZ</td>\n",
       "      <td>58</td>\n",
       "      <td>-13.500000</td>\n",
       "    </tr>\n",
       "    <tr>\n",
       "      <th>136</th>\n",
       "      <td>1001411</td>\n",
       "      <td>2020-05-03</td>\n",
       "      <td>970.16</td>\n",
       "      <td>LATAM</td>\n",
       "      <td>2020-05-15</td>\n",
       "      <td>2020-07-16</td>\n",
       "      <td>Pieper_chat</td>\n",
       "      <td>LATAM</td>\n",
       "      <td>62</td>\n",
       "      <td>-13.500000</td>\n",
       "    </tr>\n",
       "    <tr>\n",
       "      <th>145</th>\n",
       "      <td>1001531</td>\n",
       "      <td>2020-05-05</td>\n",
       "      <td>632.53</td>\n",
       "      <td>SA</td>\n",
       "      <td>2020-06-23</td>\n",
       "      <td>2020-07-17</td>\n",
       "      <td>Hooli</td>\n",
       "      <td>SA</td>\n",
       "      <td>24</td>\n",
       "      <td>-4.583333</td>\n",
       "    </tr>\n",
       "    <tr>\n",
       "      <th>27</th>\n",
       "      <td>1001365</td>\n",
       "      <td>2020-05-16</td>\n",
       "      <td>820.97</td>\n",
       "      <td>LATAM</td>\n",
       "      <td>2020-07-13</td>\n",
       "      <td>2020-07-19</td>\n",
       "      <td>EndFrame</td>\n",
       "      <td>LATAM</td>\n",
       "      <td>6</td>\n",
       "      <td>-19.600000</td>\n",
       "    </tr>\n",
       "    <tr>\n",
       "      <th>174</th>\n",
       "      <td>1001369</td>\n",
       "      <td>2020-05-25</td>\n",
       "      <td>616.9</td>\n",
       "      <td>NZ</td>\n",
       "      <td>2020-06-20</td>\n",
       "      <td>2020-07-19</td>\n",
       "      <td>Laxmi_Funds_25days</td>\n",
       "      <td>NZ</td>\n",
       "      <td>29</td>\n",
       "      <td>-17.894737</td>\n",
       "    </tr>\n",
       "    <tr>\n",
       "      <th>106</th>\n",
       "      <td>1001327</td>\n",
       "      <td>2020-05-27</td>\n",
       "      <td>492.93</td>\n",
       "      <td>NZ</td>\n",
       "      <td>2020-05-07</td>\n",
       "      <td>2020-07-20</td>\n",
       "      <td>Riot</td>\n",
       "      <td>NZ</td>\n",
       "      <td>74</td>\n",
       "      <td>-20.047619</td>\n",
       "    </tr>\n",
       "    <tr>\n",
       "      <th>194</th>\n",
       "      <td>1001616</td>\n",
       "      <td>2020-05-30</td>\n",
       "      <td>339.53</td>\n",
       "      <td>NZ</td>\n",
       "      <td>2020-05-23</td>\n",
       "      <td>2020-07-22</td>\n",
       "      <td>EndFrame</td>\n",
       "      <td>NZ</td>\n",
       "      <td>60</td>\n",
       "      <td>-19.600000</td>\n",
       "    </tr>\n",
       "  </tbody>\n",
       "</table>\n",
       "</div>"
      ],
      "text/plain": [
       "    INVOICE_NUMBER Creation_date  ... delay Cust Mean Delay\n",
       "102        1001898    2020-05-02  ...    55      -17.894737\n",
       "12         1001159    2020-05-27  ...    47       -4.583333\n",
       "183        1001450    2020-05-06  ...     9      -20.047619\n",
       "175        1001615    2020-05-04  ...    43      -19.600000\n",
       "173        1001787    2020-05-04  ...    18      -19.600000\n",
       "178        1001205    2020-05-05  ...     9      -19.600000\n",
       "48         1001344    2020-05-10  ...    45      -20.047619\n",
       "90         1001595    2020-05-23  ...    64       -4.583333\n",
       "98         1001178    2020-05-03  ...    11       -4.583333\n",
       "115        1001778    2020-05-14  ...     2      -17.894737\n",
       "121        1001565    2020-05-15  ...    -9      -20.047619\n",
       "189        1001759    2020-05-09  ...    -7      -19.600000\n",
       "109        1001735    2020-05-20  ...    61      -17.894737\n",
       "46         1001609    2020-05-22  ...    58      -13.500000\n",
       "136        1001411    2020-05-03  ...    62      -13.500000\n",
       "145        1001531    2020-05-05  ...    24       -4.583333\n",
       "27         1001365    2020-05-16  ...     6      -19.600000\n",
       "174        1001369    2020-05-25  ...    29      -17.894737\n",
       "106        1001327    2020-05-27  ...    74      -20.047619\n",
       "194        1001616    2020-05-30  ...    60      -19.600000\n",
       "\n",
       "[20 rows x 10 columns]"
      ]
     },
     "execution_count": 277,
     "metadata": {
      "tags": []
     },
     "output_type": "execute_result"
    }
   ],
   "source": [
    "val['Cust Mean Delay']=val['CUSTOMER_NAME'].map(map_cust)\n",
    "val['Cust Mean Delay'][val['Cust Mean Delay'].isnull()]= val['delay'].mean()\n",
    "val"
   ]
  },
  {
   "cell_type": "code",
   "execution_count": null,
   "metadata": {
    "id": "hT0491ggJT3I"
   },
   "outputs": [],
   "source": [
    "df_1['Week_is_3']=np.where(df_1['Due_date'].dt.dayofweek==3,1,0)"
   ]
  },
  {
   "cell_type": "code",
   "execution_count": null,
   "metadata": {
    "colab": {
     "base_uri": "https://localhost:8080/",
     "height": 626
    },
    "id": "lJKxjjBbJvHA",
    "outputId": "e2145449-3a6b-490d-d572-62eaa644ed6d"
   },
   "outputs": [
    {
     "data": {
      "text/html": [
       "<div>\n",
       "<style scoped>\n",
       "    .dataframe tbody tr th:only-of-type {\n",
       "        vertical-align: middle;\n",
       "    }\n",
       "\n",
       "    .dataframe tbody tr th {\n",
       "        vertical-align: top;\n",
       "    }\n",
       "\n",
       "    .dataframe thead th {\n",
       "        text-align: right;\n",
       "    }\n",
       "</style>\n",
       "<table border=\"1\" class=\"dataframe\">\n",
       "  <thead>\n",
       "    <tr style=\"text-align: right;\">\n",
       "      <th></th>\n",
       "      <th>INVOICE_NUMBER</th>\n",
       "      <th>Creation_date</th>\n",
       "      <th>Amount($)</th>\n",
       "      <th>Region</th>\n",
       "      <th>Due_date</th>\n",
       "      <th>CLEARING_DATE</th>\n",
       "      <th>CUSTOMER_NAME</th>\n",
       "      <th>Business_Area</th>\n",
       "      <th>delay</th>\n",
       "      <th>Weekday</th>\n",
       "      <th>Cust Mean Delay</th>\n",
       "      <th>Week_is_5</th>\n",
       "      <th>Amount Std</th>\n",
       "      <th>Week_is_3</th>\n",
       "    </tr>\n",
       "  </thead>\n",
       "  <tbody>\n",
       "    <tr>\n",
       "      <th>72</th>\n",
       "      <td>1001267</td>\n",
       "      <td>2020-05-01</td>\n",
       "      <td>360.7</td>\n",
       "      <td>LATAM</td>\n",
       "      <td>2020-06-01</td>\n",
       "      <td>2020-05-07</td>\n",
       "      <td>Riot</td>\n",
       "      <td>LATAM</td>\n",
       "      <td>-25</td>\n",
       "      <td>4</td>\n",
       "      <td>-20.047619</td>\n",
       "      <td>0</td>\n",
       "      <td>-0.602936</td>\n",
       "      <td>0</td>\n",
       "    </tr>\n",
       "    <tr>\n",
       "      <th>179</th>\n",
       "      <td>1001675</td>\n",
       "      <td>2020-05-04</td>\n",
       "      <td>668.92</td>\n",
       "      <td>LATAM</td>\n",
       "      <td>2020-05-19</td>\n",
       "      <td>2020-05-10</td>\n",
       "      <td>Pieper_chat</td>\n",
       "      <td>LATAM</td>\n",
       "      <td>-9</td>\n",
       "      <td>0</td>\n",
       "      <td>-13.500000</td>\n",
       "      <td>0</td>\n",
       "      <td>0.541445</td>\n",
       "      <td>0</td>\n",
       "    </tr>\n",
       "    <tr>\n",
       "      <th>39</th>\n",
       "      <td>1001731</td>\n",
       "      <td>2020-05-09</td>\n",
       "      <td>59.34</td>\n",
       "      <td>NA</td>\n",
       "      <td>2020-07-03</td>\n",
       "      <td>2020-05-12</td>\n",
       "      <td>EndFrame</td>\n",
       "      <td>NA</td>\n",
       "      <td>-52</td>\n",
       "      <td>5</td>\n",
       "      <td>-19.600000</td>\n",
       "      <td>0</td>\n",
       "      <td>-1.721848</td>\n",
       "      <td>0</td>\n",
       "    </tr>\n",
       "    <tr>\n",
       "      <th>135</th>\n",
       "      <td>1001456</td>\n",
       "      <td>2020-05-08</td>\n",
       "      <td>922.6</td>\n",
       "      <td>SA</td>\n",
       "      <td>2020-06-28</td>\n",
       "      <td>2020-05-12</td>\n",
       "      <td>Hooli</td>\n",
       "      <td>SA</td>\n",
       "      <td>-47</td>\n",
       "      <td>4</td>\n",
       "      <td>-4.583333</td>\n",
       "      <td>0</td>\n",
       "      <td>1.483327</td>\n",
       "      <td>0</td>\n",
       "    </tr>\n",
       "    <tr>\n",
       "      <th>19</th>\n",
       "      <td>1001782</td>\n",
       "      <td>2020-05-03</td>\n",
       "      <td>582.48</td>\n",
       "      <td>NA</td>\n",
       "      <td>2020-07-13</td>\n",
       "      <td>2020-05-13</td>\n",
       "      <td>GROW_MORE</td>\n",
       "      <td>NA</td>\n",
       "      <td>-61</td>\n",
       "      <td>6</td>\n",
       "      <td>-13.833333</td>\n",
       "      <td>0</td>\n",
       "      <td>0.220505</td>\n",
       "      <td>0</td>\n",
       "    </tr>\n",
       "    <tr>\n",
       "      <th>...</th>\n",
       "      <td>...</td>\n",
       "      <td>...</td>\n",
       "      <td>...</td>\n",
       "      <td>...</td>\n",
       "      <td>...</td>\n",
       "      <td>...</td>\n",
       "      <td>...</td>\n",
       "      <td>...</td>\n",
       "      <td>...</td>\n",
       "      <td>...</td>\n",
       "      <td>...</td>\n",
       "      <td>...</td>\n",
       "      <td>...</td>\n",
       "      <td>...</td>\n",
       "    </tr>\n",
       "    <tr>\n",
       "      <th>8</th>\n",
       "      <td>1001605</td>\n",
       "      <td>2020-05-11</td>\n",
       "      <td>277.72</td>\n",
       "      <td>NA</td>\n",
       "      <td>2020-06-22</td>\n",
       "      <td>2020-07-04</td>\n",
       "      <td>Riot</td>\n",
       "      <td>NA</td>\n",
       "      <td>12</td>\n",
       "      <td>0</td>\n",
       "      <td>-20.047619</td>\n",
       "      <td>0</td>\n",
       "      <td>-0.911031</td>\n",
       "      <td>0</td>\n",
       "    </tr>\n",
       "    <tr>\n",
       "      <th>197</th>\n",
       "      <td>1001694</td>\n",
       "      <td>2020-05-03</td>\n",
       "      <td>249.16</td>\n",
       "      <td>SA</td>\n",
       "      <td>2020-06-02</td>\n",
       "      <td>2020-07-05</td>\n",
       "      <td>GROW_MORE</td>\n",
       "      <td>SA</td>\n",
       "      <td>33</td>\n",
       "      <td>6</td>\n",
       "      <td>-13.833333</td>\n",
       "      <td>0</td>\n",
       "      <td>-1.017070</td>\n",
       "      <td>0</td>\n",
       "    </tr>\n",
       "    <tr>\n",
       "      <th>199</th>\n",
       "      <td>1001302</td>\n",
       "      <td>2020-05-09</td>\n",
       "      <td>247.41</td>\n",
       "      <td>NA</td>\n",
       "      <td>2020-07-21</td>\n",
       "      <td>2020-07-08</td>\n",
       "      <td>Laxmi_Funds_25days</td>\n",
       "      <td>NA</td>\n",
       "      <td>-13</td>\n",
       "      <td>5</td>\n",
       "      <td>-17.894737</td>\n",
       "      <td>0</td>\n",
       "      <td>-1.023568</td>\n",
       "      <td>0</td>\n",
       "    </tr>\n",
       "    <tr>\n",
       "      <th>93</th>\n",
       "      <td>1001281</td>\n",
       "      <td>2020-05-29</td>\n",
       "      <td>468.72</td>\n",
       "      <td>NZ</td>\n",
       "      <td>2020-06-29</td>\n",
       "      <td>2020-07-08</td>\n",
       "      <td>Riot</td>\n",
       "      <td>NZ</td>\n",
       "      <td>9</td>\n",
       "      <td>4</td>\n",
       "      <td>-20.047619</td>\n",
       "      <td>0</td>\n",
       "      <td>-0.201872</td>\n",
       "      <td>0</td>\n",
       "    </tr>\n",
       "    <tr>\n",
       "      <th>150</th>\n",
       "      <td>1001615</td>\n",
       "      <td>2020-05-06</td>\n",
       "      <td>547.74</td>\n",
       "      <td>NA</td>\n",
       "      <td>2020-07-21</td>\n",
       "      <td>2020-07-09</td>\n",
       "      <td>Hooli</td>\n",
       "      <td>NA</td>\n",
       "      <td>-12</td>\n",
       "      <td>2</td>\n",
       "      <td>-4.583333</td>\n",
       "      <td>0</td>\n",
       "      <td>0.091519</td>\n",
       "      <td>0</td>\n",
       "    </tr>\n",
       "  </tbody>\n",
       "</table>\n",
       "<p>114 rows × 14 columns</p>\n",
       "</div>"
      ],
      "text/plain": [
       "    INVOICE_NUMBER Creation_date Amount($)  ... Week_is_5 Amount Std Week_is_3\n",
       "72         1001267    2020-05-01     360.7  ...         0  -0.602936         0\n",
       "179        1001675    2020-05-04    668.92  ...         0   0.541445         0\n",
       "39         1001731    2020-05-09     59.34  ...         0  -1.721848         0\n",
       "135        1001456    2020-05-08     922.6  ...         0   1.483327         0\n",
       "19         1001782    2020-05-03    582.48  ...         0   0.220505         0\n",
       "..             ...           ...       ...  ...       ...        ...       ...\n",
       "8          1001605    2020-05-11    277.72  ...         0  -0.911031         0\n",
       "197        1001694    2020-05-03    249.16  ...         0  -1.017070         0\n",
       "199        1001302    2020-05-09    247.41  ...         0  -1.023568         0\n",
       "93         1001281    2020-05-29    468.72  ...         0  -0.201872         0\n",
       "150        1001615    2020-05-06    547.74  ...         0   0.091519         0\n",
       "\n",
       "[114 rows x 14 columns]"
      ]
     },
     "execution_count": 285,
     "metadata": {
      "tags": []
     },
     "output_type": "execute_result"
    }
   ],
   "source": [
    "df_1"
   ]
  },
  {
   "cell_type": "code",
   "execution_count": null,
   "metadata": {
    "colab": {
     "base_uri": "https://localhost:8080/",
     "height": 326
    },
    "id": "vpDlZCqTN1nc",
    "outputId": "1528b2c6-610f-4265-9b19-f4411e62e08c"
   },
   "outputs": [
    {
     "data": {
      "text/html": [
       "<div>\n",
       "<style scoped>\n",
       "    .dataframe tbody tr th:only-of-type {\n",
       "        vertical-align: middle;\n",
       "    }\n",
       "\n",
       "    .dataframe tbody tr th {\n",
       "        vertical-align: top;\n",
       "    }\n",
       "\n",
       "    .dataframe thead th {\n",
       "        text-align: right;\n",
       "    }\n",
       "</style>\n",
       "<table border=\"1\" class=\"dataframe\">\n",
       "  <thead>\n",
       "    <tr style=\"text-align: right;\">\n",
       "      <th></th>\n",
       "      <th>INVOICE_NUMBER</th>\n",
       "      <th>Creation_date</th>\n",
       "      <th>Amount($)</th>\n",
       "      <th>Region</th>\n",
       "      <th>Due_date</th>\n",
       "      <th>CLEARING_DATE</th>\n",
       "      <th>CUSTOMER_NAME</th>\n",
       "      <th>Business_Area</th>\n",
       "      <th>delay</th>\n",
       "      <th>Cust Mean Delay</th>\n",
       "      <th>Week_is_5</th>\n",
       "      <th>Amount Std</th>\n",
       "    </tr>\n",
       "  </thead>\n",
       "  <tbody>\n",
       "    <tr>\n",
       "      <th>102</th>\n",
       "      <td>1001898</td>\n",
       "      <td>2020-05-02</td>\n",
       "      <td>672.15</td>\n",
       "      <td>NA</td>\n",
       "      <td>2020-05-15</td>\n",
       "      <td>2020-07-09</td>\n",
       "      <td>Laxmi_Funds_25days</td>\n",
       "      <td>NA</td>\n",
       "      <td>55</td>\n",
       "      <td>-17.894737</td>\n",
       "      <td>0</td>\n",
       "      <td>0.553438</td>\n",
       "    </tr>\n",
       "    <tr>\n",
       "      <th>12</th>\n",
       "      <td>1001159</td>\n",
       "      <td>2020-05-27</td>\n",
       "      <td>236.41</td>\n",
       "      <td>LATAM</td>\n",
       "      <td>2020-05-23</td>\n",
       "      <td>2020-07-09</td>\n",
       "      <td>Hooli</td>\n",
       "      <td>LATAM</td>\n",
       "      <td>47</td>\n",
       "      <td>-4.583333</td>\n",
       "      <td>0</td>\n",
       "      <td>-1.064409</td>\n",
       "    </tr>\n",
       "    <tr>\n",
       "      <th>183</th>\n",
       "      <td>1001450</td>\n",
       "      <td>2020-05-06</td>\n",
       "      <td>384.21</td>\n",
       "      <td>LATAM</td>\n",
       "      <td>2020-07-01</td>\n",
       "      <td>2020-07-10</td>\n",
       "      <td>Riot</td>\n",
       "      <td>LATAM</td>\n",
       "      <td>9</td>\n",
       "      <td>-20.047619</td>\n",
       "      <td>0</td>\n",
       "      <td>-0.515647</td>\n",
       "    </tr>\n",
       "    <tr>\n",
       "      <th>175</th>\n",
       "      <td>1001615</td>\n",
       "      <td>2020-05-04</td>\n",
       "      <td>261.21</td>\n",
       "      <td>NA</td>\n",
       "      <td>2020-05-28</td>\n",
       "      <td>2020-07-10</td>\n",
       "      <td>EndFrame</td>\n",
       "      <td>NA</td>\n",
       "      <td>43</td>\n",
       "      <td>-19.600000</td>\n",
       "      <td>1</td>\n",
       "      <td>-0.972330</td>\n",
       "    </tr>\n",
       "    <tr>\n",
       "      <th>173</th>\n",
       "      <td>1001787</td>\n",
       "      <td>2020-05-04</td>\n",
       "      <td>989.56</td>\n",
       "      <td>LATAM</td>\n",
       "      <td>2020-06-22</td>\n",
       "      <td>2020-07-10</td>\n",
       "      <td>EndFrame</td>\n",
       "      <td>LATAM</td>\n",
       "      <td>18</td>\n",
       "      <td>-19.600000</td>\n",
       "      <td>0</td>\n",
       "      <td>1.731941</td>\n",
       "    </tr>\n",
       "  </tbody>\n",
       "</table>\n",
       "</div>"
      ],
      "text/plain": [
       "    INVOICE_NUMBER Creation_date  ... Week_is_5 Amount Std\n",
       "102        1001898    2020-05-02  ...         0   0.553438\n",
       "12         1001159    2020-05-27  ...         0  -1.064409\n",
       "183        1001450    2020-05-06  ...         0  -0.515647\n",
       "175        1001615    2020-05-04  ...         1  -0.972330\n",
       "173        1001787    2020-05-04  ...         0   1.731941\n",
       "\n",
       "[5 rows x 12 columns]"
      ]
     },
     "execution_count": 290,
     "metadata": {
      "tags": []
     },
     "output_type": "execute_result"
    }
   ],
   "source": [
    "val['Week_is_5']=np.where(val['Due_date'].dt.dayofweek==3,1,0)\n",
    "val.head(5)"
   ]
  },
  {
   "cell_type": "code",
   "execution_count": null,
   "metadata": {
    "id": "CcjNBIWUJ4Z0"
   },
   "outputs": [],
   "source": [
    "#Standardization of Amount Column\n",
    "col_names = ['Amount($)']\n",
    "features = df_1[col_names]\n",
    "features1 = val[col_names]\n",
    "\n",
    "scaler = StandardScaler().fit(features.values)\n",
    "features = scaler.transform(features.values)\n",
    "features_val = scaler.transform(features1.values)\n",
    "\n",
    "df_1['Amount Std'] = features\n",
    "val['Amount Std'] =  features_val"
   ]
  },
  {
   "cell_type": "code",
   "execution_count": null,
   "metadata": {
    "colab": {
     "base_uri": "https://localhost:8080/",
     "height": 326
    },
    "id": "tTXMggvWPLuD",
    "outputId": "52087c4a-b855-449b-c509-0dd906973d28"
   },
   "outputs": [
    {
     "data": {
      "text/html": [
       "<div>\n",
       "<style scoped>\n",
       "    .dataframe tbody tr th:only-of-type {\n",
       "        vertical-align: middle;\n",
       "    }\n",
       "\n",
       "    .dataframe tbody tr th {\n",
       "        vertical-align: top;\n",
       "    }\n",
       "\n",
       "    .dataframe thead th {\n",
       "        text-align: right;\n",
       "    }\n",
       "</style>\n",
       "<table border=\"1\" class=\"dataframe\">\n",
       "  <thead>\n",
       "    <tr style=\"text-align: right;\">\n",
       "      <th></th>\n",
       "      <th>INVOICE_NUMBER</th>\n",
       "      <th>Creation_date</th>\n",
       "      <th>Amount($)</th>\n",
       "      <th>Region</th>\n",
       "      <th>Due_date</th>\n",
       "      <th>CLEARING_DATE</th>\n",
       "      <th>CUSTOMER_NAME</th>\n",
       "      <th>Business_Area</th>\n",
       "      <th>delay</th>\n",
       "      <th>Weekday</th>\n",
       "      <th>Cust Mean Delay</th>\n",
       "      <th>Week_is_5</th>\n",
       "      <th>Amount Std</th>\n",
       "      <th>Week_is_3</th>\n",
       "    </tr>\n",
       "  </thead>\n",
       "  <tbody>\n",
       "    <tr>\n",
       "      <th>72</th>\n",
       "      <td>1001267</td>\n",
       "      <td>2020-05-01</td>\n",
       "      <td>360.7</td>\n",
       "      <td>LATAM</td>\n",
       "      <td>2020-06-01</td>\n",
       "      <td>2020-05-07</td>\n",
       "      <td>Riot</td>\n",
       "      <td>LATAM</td>\n",
       "      <td>-25</td>\n",
       "      <td>4</td>\n",
       "      <td>-20.047619</td>\n",
       "      <td>0</td>\n",
       "      <td>-0.602936</td>\n",
       "      <td>0</td>\n",
       "    </tr>\n",
       "    <tr>\n",
       "      <th>179</th>\n",
       "      <td>1001675</td>\n",
       "      <td>2020-05-04</td>\n",
       "      <td>668.92</td>\n",
       "      <td>LATAM</td>\n",
       "      <td>2020-05-19</td>\n",
       "      <td>2020-05-10</td>\n",
       "      <td>Pieper_chat</td>\n",
       "      <td>LATAM</td>\n",
       "      <td>-9</td>\n",
       "      <td>0</td>\n",
       "      <td>-13.500000</td>\n",
       "      <td>0</td>\n",
       "      <td>0.541445</td>\n",
       "      <td>0</td>\n",
       "    </tr>\n",
       "    <tr>\n",
       "      <th>39</th>\n",
       "      <td>1001731</td>\n",
       "      <td>2020-05-09</td>\n",
       "      <td>59.34</td>\n",
       "      <td>NA</td>\n",
       "      <td>2020-07-03</td>\n",
       "      <td>2020-05-12</td>\n",
       "      <td>EndFrame</td>\n",
       "      <td>NA</td>\n",
       "      <td>-52</td>\n",
       "      <td>5</td>\n",
       "      <td>-19.600000</td>\n",
       "      <td>0</td>\n",
       "      <td>-1.721848</td>\n",
       "      <td>0</td>\n",
       "    </tr>\n",
       "    <tr>\n",
       "      <th>135</th>\n",
       "      <td>1001456</td>\n",
       "      <td>2020-05-08</td>\n",
       "      <td>922.6</td>\n",
       "      <td>SA</td>\n",
       "      <td>2020-06-28</td>\n",
       "      <td>2020-05-12</td>\n",
       "      <td>Hooli</td>\n",
       "      <td>SA</td>\n",
       "      <td>-47</td>\n",
       "      <td>4</td>\n",
       "      <td>-4.583333</td>\n",
       "      <td>0</td>\n",
       "      <td>1.483327</td>\n",
       "      <td>0</td>\n",
       "    </tr>\n",
       "    <tr>\n",
       "      <th>19</th>\n",
       "      <td>1001782</td>\n",
       "      <td>2020-05-03</td>\n",
       "      <td>582.48</td>\n",
       "      <td>NA</td>\n",
       "      <td>2020-07-13</td>\n",
       "      <td>2020-05-13</td>\n",
       "      <td>GROW_MORE</td>\n",
       "      <td>NA</td>\n",
       "      <td>-61</td>\n",
       "      <td>6</td>\n",
       "      <td>-13.833333</td>\n",
       "      <td>0</td>\n",
       "      <td>0.220505</td>\n",
       "      <td>0</td>\n",
       "    </tr>\n",
       "  </tbody>\n",
       "</table>\n",
       "</div>"
      ],
      "text/plain": [
       "    INVOICE_NUMBER Creation_date Amount($)  ... Week_is_5 Amount Std Week_is_3\n",
       "72         1001267    2020-05-01     360.7  ...         0  -0.602936         0\n",
       "179        1001675    2020-05-04    668.92  ...         0   0.541445         0\n",
       "39         1001731    2020-05-09     59.34  ...         0  -1.721848         0\n",
       "135        1001456    2020-05-08     922.6  ...         0   1.483327         0\n",
       "19         1001782    2020-05-03    582.48  ...         0   0.220505         0\n",
       "\n",
       "[5 rows x 14 columns]"
      ]
     },
     "execution_count": 292,
     "metadata": {
      "tags": []
     },
     "output_type": "execute_result"
    }
   ],
   "source": [
    "df_1.head(5)"
   ]
  },
  {
   "cell_type": "code",
   "execution_count": null,
   "metadata": {
    "colab": {
     "base_uri": "https://localhost:8080/",
     "height": 326
    },
    "id": "hxTSNMa2QXra",
    "outputId": "78afde94-8ee1-4b71-a1ca-5ef427402ae5"
   },
   "outputs": [
    {
     "data": {
      "text/html": [
       "<div>\n",
       "<style scoped>\n",
       "    .dataframe tbody tr th:only-of-type {\n",
       "        vertical-align: middle;\n",
       "    }\n",
       "\n",
       "    .dataframe tbody tr th {\n",
       "        vertical-align: top;\n",
       "    }\n",
       "\n",
       "    .dataframe thead th {\n",
       "        text-align: right;\n",
       "    }\n",
       "</style>\n",
       "<table border=\"1\" class=\"dataframe\">\n",
       "  <thead>\n",
       "    <tr style=\"text-align: right;\">\n",
       "      <th></th>\n",
       "      <th>INVOICE_NUMBER</th>\n",
       "      <th>Creation_date</th>\n",
       "      <th>Amount($)</th>\n",
       "      <th>Region</th>\n",
       "      <th>Due_date</th>\n",
       "      <th>CLEARING_DATE</th>\n",
       "      <th>CUSTOMER_NAME</th>\n",
       "      <th>Business_Area</th>\n",
       "      <th>delay</th>\n",
       "      <th>Cust Mean Delay</th>\n",
       "      <th>Week_is_5</th>\n",
       "      <th>Amount Std</th>\n",
       "    </tr>\n",
       "  </thead>\n",
       "  <tbody>\n",
       "    <tr>\n",
       "      <th>102</th>\n",
       "      <td>1001898</td>\n",
       "      <td>2020-05-02</td>\n",
       "      <td>672.15</td>\n",
       "      <td>NA</td>\n",
       "      <td>2020-05-15</td>\n",
       "      <td>2020-07-09</td>\n",
       "      <td>Laxmi_Funds_25days</td>\n",
       "      <td>NA</td>\n",
       "      <td>55</td>\n",
       "      <td>-17.894737</td>\n",
       "      <td>0</td>\n",
       "      <td>0.553438</td>\n",
       "    </tr>\n",
       "    <tr>\n",
       "      <th>12</th>\n",
       "      <td>1001159</td>\n",
       "      <td>2020-05-27</td>\n",
       "      <td>236.41</td>\n",
       "      <td>LATAM</td>\n",
       "      <td>2020-05-23</td>\n",
       "      <td>2020-07-09</td>\n",
       "      <td>Hooli</td>\n",
       "      <td>LATAM</td>\n",
       "      <td>47</td>\n",
       "      <td>-4.583333</td>\n",
       "      <td>0</td>\n",
       "      <td>-1.064409</td>\n",
       "    </tr>\n",
       "    <tr>\n",
       "      <th>183</th>\n",
       "      <td>1001450</td>\n",
       "      <td>2020-05-06</td>\n",
       "      <td>384.21</td>\n",
       "      <td>LATAM</td>\n",
       "      <td>2020-07-01</td>\n",
       "      <td>2020-07-10</td>\n",
       "      <td>Riot</td>\n",
       "      <td>LATAM</td>\n",
       "      <td>9</td>\n",
       "      <td>-20.047619</td>\n",
       "      <td>0</td>\n",
       "      <td>-0.515647</td>\n",
       "    </tr>\n",
       "    <tr>\n",
       "      <th>175</th>\n",
       "      <td>1001615</td>\n",
       "      <td>2020-05-04</td>\n",
       "      <td>261.21</td>\n",
       "      <td>NA</td>\n",
       "      <td>2020-05-28</td>\n",
       "      <td>2020-07-10</td>\n",
       "      <td>EndFrame</td>\n",
       "      <td>NA</td>\n",
       "      <td>43</td>\n",
       "      <td>-19.600000</td>\n",
       "      <td>1</td>\n",
       "      <td>-0.972330</td>\n",
       "    </tr>\n",
       "    <tr>\n",
       "      <th>173</th>\n",
       "      <td>1001787</td>\n",
       "      <td>2020-05-04</td>\n",
       "      <td>989.56</td>\n",
       "      <td>LATAM</td>\n",
       "      <td>2020-06-22</td>\n",
       "      <td>2020-07-10</td>\n",
       "      <td>EndFrame</td>\n",
       "      <td>LATAM</td>\n",
       "      <td>18</td>\n",
       "      <td>-19.600000</td>\n",
       "      <td>0</td>\n",
       "      <td>1.731941</td>\n",
       "    </tr>\n",
       "  </tbody>\n",
       "</table>\n",
       "</div>"
      ],
      "text/plain": [
       "    INVOICE_NUMBER Creation_date  ... Week_is_5 Amount Std\n",
       "102        1001898    2020-05-02  ...         0   0.553438\n",
       "12         1001159    2020-05-27  ...         0  -1.064409\n",
       "183        1001450    2020-05-06  ...         0  -0.515647\n",
       "175        1001615    2020-05-04  ...         1  -0.972330\n",
       "173        1001787    2020-05-04  ...         0   1.731941\n",
       "\n",
       "[5 rows x 12 columns]"
      ]
     },
     "execution_count": 293,
     "metadata": {
      "tags": []
     },
     "output_type": "execute_result"
    }
   ],
   "source": [
    "val.head(5)"
   ]
  },
  {
   "cell_type": "code",
   "execution_count": null,
   "metadata": {
    "id": "2ahKxLrMR8OU"
   },
   "outputs": [],
   "source": []
  }
 ],
 "metadata": {
  "colab": {
   "collapsed_sections": [
    "nfsDPLNzE-wz",
    "YR9PK_FKKEs-",
    "mOEY-xUAFkif",
    "d-rEkWpNI2HB"
   ],
   "name": "Demo ML Flow.ipynb",
   "provenance": []
  },
  "kernelspec": {
   "display_name": "Python 3",
   "language": "python",
   "name": "python3"
  },
  "language_info": {
   "codemirror_mode": {
    "name": "ipython",
    "version": 3
   },
   "file_extension": ".py",
   "mimetype": "text/x-python",
   "name": "python",
   "nbconvert_exporter": "python",
   "pygments_lexer": "ipython3",
   "version": "3.6.5"
  }
 },
 "nbformat": 4,
 "nbformat_minor": 1
}
